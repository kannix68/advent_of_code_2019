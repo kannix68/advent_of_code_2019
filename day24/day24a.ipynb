{
 "cells": [
  {
   "cell_type": "code",
   "execution_count": null,
   "metadata": {},
   "outputs": [],
   "source": [
    "##\n",
    "# Advent of code 2019, AoC day 24 puzzle 1\n",
    "# This solution (python3.7 jupyter notebook) by kannix68, @ 2020-01-07.\n",
    "\n",
    "import sys\n",
    "sys.path.insert(0, '..')  # allow import from parent dir\n",
    "from typing import Dict, List, Tuple\n",
    "import lib.aochelper as aoc\n",
    "from lib.aochelper import map_e"
   ]
  },
  {
   "cell_type": "code",
   "execution_count": null,
   "metadata": {},
   "outputs": [],
   "source": [
    "import logging\n",
    "logging.basicConfig(stream=sys.stdout, level=logging.INFO)\n",
    "log = logging.getLogger(__name__)"
   ]
  },
  {
   "cell_type": "code",
   "execution_count": null,
   "metadata": {},
   "outputs": [],
   "source": [
    "## PROBLEM DOMAIN code\n",
    "import hashlib\n",
    "#import re\n",
    "#from timeit import default_timer as timer  # performance timing measurement"
   ]
  },
  {
   "cell_type": "code",
   "execution_count": null,
   "metadata": {},
   "outputs": [],
   "source": [
    "def iterate_world(world: List[str], num_iters=1, break_on_duplicate=False) -> List[str]:\n",
    "  if break_on_duplicate:\n",
    "    world_hashes = []\n",
    "    world_md5 = hashlib.md5(\"\\n\".join(world).encode()).hexdigest()\n",
    "    world_hashes.append(world_md5)\n",
    "    #log.debug(f\"new hash={world_md5}\")\n",
    "  for iter in range(int(num_iters)):\n",
    "    if iter > 0:\n",
    "      world = out_world.copy()\n",
    "    out_world = []\n",
    "    for y, line in enumerate(world):\n",
    "      #log.debug(f\"line={line}\")\n",
    "      out_line = []\n",
    "      for x, val in enumerate(line):\n",
    "        #log.debug(f\"cell={val}\")\n",
    "        nb = ''.join(aoc.get_neighbors(world, x, y)).count('#')\n",
    "        if val == '#':\n",
    "          if nb == 1:\n",
    "            out_line.append('#')\n",
    "          else:\n",
    "            out_line.append('.')\n",
    "        else:\n",
    "          if nb == 1 or nb == 2:\n",
    "            out_line.append('#')\n",
    "          else:\n",
    "            out_line.append('.')\n",
    "      out_world.append(''.join(out_line))\n",
    "    wrep = \"\\n\".join(out_world)\n",
    "    #log.debug(f\"iter#{iter+1} out-world=\\n{wrep}\")\n",
    "    if break_on_duplicate:\n",
    "      world_md5 = hashlib.md5(\"\\n\".join(out_world).encode()).hexdigest()\n",
    "      if world_md5 in world_hashes:\n",
    "        log.info(f\"iter#{iter+1} duplicate world on #={iter+1} found from previous #={world_hashes.index(world_md5)+1}=; world=\\n{wrep}\")\n",
    "        break\n",
    "      else:\n",
    "        world_hashes.append(world_md5)\n",
    "        #log.debug(f\"new hash={world_md5}\")\n",
    "  log.info(f\"finish iter#{iter+1} out-world=\\n{wrep}\")\n",
    "  return out_world"
   ]
  },
  {
   "cell_type": "code",
   "execution_count": null,
   "metadata": {},
   "outputs": [],
   "source": [
    "def calc_biodiv(world: List[str]) -> int:\n",
    "  biodiv = 0\n",
    "  linesize = len(world[0])\n",
    "  for y, line in enumerate(world, 0):\n",
    "    for x, val in enumerate(line, 1):\n",
    "      if val == '#':\n",
    "        log.debug(f\"found bio @ ({x}, {y}) idx={y*linesize+x}, val={2**(y*linesize+x-1)}\")\n",
    "        biodiv += 2**(y*linesize+x-1)\n",
    "  return biodiv"
   ]
  },
  {
   "cell_type": "code",
   "execution_count": null,
   "metadata": {},
   "outputs": [],
   "source": [
    "## MAIN"
   ]
  },
  {
   "cell_type": "code",
   "execution_count": null,
   "metadata": {},
   "outputs": [],
   "source": [
    "### tests\n",
    "log.setLevel(logging.DEBUG)"
   ]
  },
  {
   "cell_type": "code",
   "execution_count": null,
   "metadata": {},
   "outputs": [],
   "source": [
    "## example 1\n",
    "ins = \"\"\"\n",
    "....#\n",
    "#..#.\n",
    "#..##\n",
    "..#..\n",
    "#....\n",
    "\"\"\".strip()\n",
    "\n",
    "inworld = ins.split(\"\\n\")\n",
    "outworld = iterate_world(inworld, num_iters=100, break_on_duplicate=True)\n",
    "outrep = \"\\n\".join(outworld)\n",
    "log.info(f\"result=\\n{outrep}\")\n",
    "biodiv = calc_biodiv(outworld)\n",
    "log.info(f\"biodiv={biodiv}\")\n",
    "\n",
    "#result = ' '.join(map_e(str, cards))\n",
    "#aoc.assert_msg(f\"input={cards_num}, #cmds={len(cmds)} expects output={expected}, got {result}\", expected == result)"
   ]
  },
  {
   "cell_type": "code",
   "execution_count": null,
   "metadata": {},
   "outputs": [],
   "source": [
    "### personal input solution"
   ]
  },
  {
   "cell_type": "code",
   "execution_count": null,
   "metadata": {},
   "outputs": [],
   "source": [
    "log.setLevel(logging.INFO)\n",
    "data = aoc.read_file_to_str(\"day24.in\").strip()\n",
    "log.info(f\"data-len={len(data)}, data={data[:40]}...\")\n",
    "\n",
    "inworld = data.split(\"\\n\")\n",
    "outworld = iterate_world(inworld, num_iters=100, break_on_duplicate=True)\n",
    "outrep = \"\\n\".join(outworld)\n",
    "log.info(f\"result=\\n{outrep}\")\n",
    "biodiv = calc_biodiv(outworld)\n",
    "log.info(f\"biodiv={biodiv}\")"
   ]
  }
 ],
 "metadata": {
  "kernelspec": {
   "display_name": "Python 3",
   "language": "python",
   "name": "python3"
  },
  "language_info": {
   "codemirror_mode": {
    "name": "ipython",
    "version": 3
   },
   "file_extension": ".py",
   "mimetype": "text/x-python",
   "name": "python",
   "nbconvert_exporter": "python",
   "pygments_lexer": "ipython3",
   "version": "3.7.5"
  }
 },
 "nbformat": 4,
 "nbformat_minor": 4
}
