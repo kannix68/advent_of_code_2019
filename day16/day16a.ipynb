{
 "cells": [
  {
   "cell_type": "code",
   "execution_count": null,
   "metadata": {},
   "outputs": [],
   "source": [
    "##\n",
    "# Advent of code 2019, AoC day 16 puzzle 1\n",
    "# This solution (python3.7 jupyter notebook) by kannix68, @ 2020-01-06.\n",
    "\n",
    "import sys\n",
    "sys.path.insert(0, '..')  # allow import from parent dir\n",
    "from typing import Dict, List, Tuple\n",
    "import lib.aochelper as aoc\n",
    "from lib.aochelper import map_e"
   ]
  },
  {
   "cell_type": "code",
   "execution_count": null,
   "metadata": {},
   "outputs": [],
   "source": [
    "import logging\n",
    "logging.basicConfig(stream=sys.stdout, level=logging.INFO)\n",
    "log = logging.getLogger(__name__)"
   ]
  },
  {
   "cell_type": "code",
   "execution_count": null,
   "metadata": {},
   "outputs": [],
   "source": [
    "## PROBLEM DOMAIN code\n",
    "import itertools"
   ]
  },
  {
   "cell_type": "code",
   "execution_count": null,
   "metadata": {},
   "outputs": [],
   "source": [
    "def phase_transform(ins: str, ptrn: List[int], num_phases = 1) -> str:\n",
    "  tmp = ins\n",
    "  for iter in range(num_phases):\n",
    "    if iter > 0:\n",
    "      tmp = outs\n",
    "    outdigs = []\n",
    "    for digidx in range(len(ins)):\n",
    "      digptrn = []\n",
    "      for i in ptrn:\n",
    "        for fac in range(digidx+1):\n",
    "          digptrn.append(i)\n",
    "      #log.debug(f\"digid={digidx}, digptrn={digptrn}\")\n",
    "      outdig_compositor = []\n",
    "      offset = 1  # number of elements to consume from (cycled) pattern before acting on input\n",
    "      for idx, val in enumerate(itertools.cycle(digptrn), -offset):\n",
    "        if idx == len(tmp):\n",
    "          break\n",
    "        if idx < 0:\n",
    "           continue\n",
    "        #log.debug(f\"  {idx}, ins-dig={ins[idx]} ptrn:{val}\")\n",
    "        outdig_compositor.append( int(tmp[idx])*val )\n",
    "      dig = abs(sum(outdig_compositor))%10\n",
    "      outdigs.append(dig)\n",
    "      outs = ''.join(map_e(str, outdigs))\n",
    "    log.debug(f\"phase_transform #{iter+1}: outdigs={outs} via {len(ins)} iters from ptrn={aoc.cl(ptrn)}, input#={tmp}\")\n",
    "\n",
    "  log.info(f\"phase_transform iter={iter+1} out={outs} via {len(ins)} iters from ptrn={aoc.cl(ptrn)}, input0={ins}\")\n",
    "  return outs"
   ]
  },
  {
   "cell_type": "code",
   "execution_count": null,
   "metadata": {},
   "outputs": [],
   "source": [
    "## MAIN"
   ]
  },
  {
   "cell_type": "code",
   "execution_count": null,
   "metadata": {},
   "outputs": [],
   "source": [
    "### tests\n",
    "log.setLevel(logging.INFO)"
   ]
  },
  {
   "cell_type": "code",
   "execution_count": null,
   "metadata": {},
   "outputs": [],
   "source": [
    "## example 0-a from text\n",
    "ins = \"9, 8, 7, 6, 5\"\n",
    "ins = map_e(int, ins.split(', '))\n",
    "ptrn = \"1, 2, 3\"\n",
    "ptrn = map_e(int, ptrn.split(', '))\n",
    "res = phase_transform(ins, ptrn)\n",
    "log.info(f\"result={res}\")\n",
    "\n",
    "#result = solve(ins)\n",
    "#expected = 31\n",
    "#aoc.assert_msg(f\"input={ins} expects output={expected}, got {result}\", expected == result)"
   ]
  },
  {
   "cell_type": "code",
   "execution_count": null,
   "metadata": {},
   "outputs": [],
   "source": [
    "## example 1\n",
    "ins = \"12345678\"\n",
    "ptrn = [0, 1, 0, -1]\n",
    "res = phase_transform(ins, ptrn)\n",
    "log.info(f\"result iter#1={res}\")\n",
    "res = phase_transform(res, ptrn)\n",
    "log.info(f\"result iter#1={res}\")\n",
    "\n",
    "result = phase_transform(ins, ptrn, num_phases=4)\n",
    "expected = \"01029498\"\n",
    "aoc.assert_msg(f\"input={ins} expects output={expected}, got {result}\", expected == result)"
   ]
  },
  {
   "cell_type": "code",
   "execution_count": null,
   "metadata": {},
   "outputs": [],
   "source": [
    "# example 2\n",
    "ins = \"80871224585914546619083218645595\"\n",
    "ptrn = [0, 1, 0, -1]\n",
    "result = phase_transform(ins, ptrn, num_phases=100)\n",
    "result = result[:8]\n",
    "expected = \"24176176\"\n",
    "aoc.assert_msg(f\"input={ins} expects output={expected}, got {result}\", expected == result)"
   ]
  },
  {
   "cell_type": "code",
   "execution_count": null,
   "metadata": {},
   "outputs": [],
   "source": [
    "# example 3\n",
    "ins = \"19617804207202209144916044189917\"\n",
    "ptrn = [0, 1, 0, -1]\n",
    "result = phase_transform(ins, ptrn, num_phases=100)\n",
    "result = result[:8]\n",
    "expected = \"73745418\"\n",
    "aoc.assert_msg(f\"input={ins} expects output={expected}, got {result}\", expected == result)"
   ]
  },
  {
   "cell_type": "code",
   "execution_count": null,
   "metadata": {},
   "outputs": [],
   "source": [
    "# example 4\n",
    "ins = \"69317163492948606335995924319873\"\n",
    "ptrn = [0, 1, 0, -1]\n",
    "result = phase_transform(ins, ptrn, num_phases=100)\n",
    "result = result[:8]\n",
    "expected = \"52432133\"\n",
    "aoc.assert_msg(f\"input={ins} expects output={expected}, got {result}\", expected == result)"
   ]
  },
  {
   "cell_type": "code",
   "execution_count": null,
   "metadata": {},
   "outputs": [],
   "source": [
    "### personal input solution"
   ]
  },
  {
   "cell_type": "code",
   "execution_count": null,
   "metadata": {},
   "outputs": [],
   "source": [
    "log.setLevel(logging.INFO)\n",
    "data = aoc.read_file_to_str(\"day16.in\").strip()\n",
    "ptrn = [0, 1, 0, -1]\n",
    "log.info(f\"data=\\n{data}\")\n",
    "#res = solve(data)\n",
    "result = phase_transform(data, ptrn, num_phases=100)\n",
    "result = result[:8]\n",
    "print(f\"result={result}\")"
   ]
  }
 ],
 "metadata": {
  "kernelspec": {
   "display_name": "Python 3",
   "language": "python",
   "name": "python3"
  },
  "language_info": {
   "codemirror_mode": {
    "name": "ipython",
    "version": 3
   },
   "file_extension": ".py",
   "mimetype": "text/x-python",
   "name": "python",
   "nbconvert_exporter": "python",
   "pygments_lexer": "ipython3",
   "version": "3.7.5"
  }
 },
 "nbformat": 4,
 "nbformat_minor": 4
}
