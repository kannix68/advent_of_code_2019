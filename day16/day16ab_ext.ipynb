{
 "cells": [
  {
   "cell_type": "code",
   "execution_count": null,
   "metadata": {},
   "outputs": [],
   "source": [
    "##\n",
    "# Advent of code 2019, AoC day 16 puzzles 1 and 2.\n",
    "# **External solution**. (Used with python3.7 jupyter notebook by kannix68 @ 2020-01-07.)\n",
    "#\n",
    "# Discussion see [2019 Day 14 Solutions: adventofcode](https://www.reddit.com/r/adventofcode/comments/eafj32/2019_day_14_solutions/)\n",
    "# this gist solution see https://github.com/kresimir-lukin/AdventOfCode2019/blob/master/day16.py"
   ]
  },
  {
   "cell_type": "code",
   "execution_count": null,
   "metadata": {},
   "outputs": [],
   "source": [
    "import sys\n",
    "\n",
    "def get_multiplier(position, offset):\n",
    "    base_pattern = [0, 1, 0, -1]\n",
    "    if offset < position:\n",
    "        return base_pattern[0]\n",
    "    offset -= position\n",
    "    return base_pattern[(offset // (position+1) + 1) % len(base_pattern)]\n",
    "\n",
    "def part1(data):\n",
    "    for _ in range(100):\n",
    "        for i in range(len(data)):\n",
    "            data[i] = abs(sum(data[j] * get_multiplier(i, j) for j in range(len(data)))) % 10\n",
    "    return ''.join(map(str, data[:8]))\n",
    "\n",
    "def part2(data):\n",
    "    offset = int(''.join(map(str, data[:7])))\n",
    "    data = (data*10000)[offset:]\n",
    "    for _ in range(100):\n",
    "        suffix_sum = 0\n",
    "        for i in range(len(data)-1, -1, -1):\n",
    "            data[i] = suffix_sum = (suffix_sum + data[i]) % 10\n",
    "    return ''.join(map(str, data[:8]))\n",
    "\n",
    "#assert len(sys.argv) == 2\n",
    "#data = list(map(int, open(sys.argv[1]).read()))\n",
    "#\n",
    "#print('Part 1: {0}, Part 2: {1}'.format(part1(data[:]), part2(data[:])))"
   ]
  },
  {
   "cell_type": "code",
   "execution_count": null,
   "metadata": {},
   "outputs": [],
   "source": [
    "from timeit import default_timer as timer  # performance timing measurement"
   ]
  },
  {
   "cell_type": "code",
   "execution_count": null,
   "metadata": {},
   "outputs": [],
   "source": [
    "#assert len(sys.argv) == 2\n",
    "#fname = sys.argv[1]\n",
    "fname = \"day16.in\"\n",
    "datastr = open(fname).read().strip()"
   ]
  },
  {
   "cell_type": "code",
   "execution_count": null,
   "metadata": {},
   "outputs": [],
   "source": [
    "data = list(map(int, datastr))\n",
    "data = data[:]\n",
    "\n",
    "tm_start = timer()\n",
    "result = part1(data)\n",
    "tm_end = timer()\n",
    "\n",
    "print(f\"result1={result} after tm={tm_end-tm_start}\")"
   ]
  },
  {
   "cell_type": "code",
   "execution_count": null,
   "metadata": {},
   "outputs": [],
   "source": [
    "data = list(map(int, datastr))\n",
    "data = data[:]\n",
    "\n",
    "tm_start = timer()\n",
    "result = part2(data)\n",
    "tm_end = timer()\n",
    "\n",
    "print(f\"result2={result} after tm={tm_end-tm_start}\")"
   ]
  }
 ],
 "metadata": {
  "kernelspec": {
   "display_name": "Python 3",
   "language": "python",
   "name": "python3"
  },
  "language_info": {
   "codemirror_mode": {
    "name": "ipython",
    "version": 3
   },
   "file_extension": ".py",
   "mimetype": "text/x-python",
   "name": "python",
   "nbconvert_exporter": "python",
   "pygments_lexer": "ipython3",
   "version": "3.7.5"
  }
 },
 "nbformat": 4,
 "nbformat_minor": 4
}
