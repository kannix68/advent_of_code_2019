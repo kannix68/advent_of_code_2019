{
 "cells": [
  {
   "cell_type": "code",
   "execution_count": null,
   "metadata": {},
   "outputs": [],
   "source": [
    "##\n",
    "# Advent of code 2019, AoC day 22 puzzle 1\n",
    "# This solution (python3.7 jupyter notebook) by kannix68, @ 2020-01-07.\n",
    "\n",
    "import sys\n",
    "sys.path.insert(0, '..')  # allow import from parent dir\n",
    "from typing import Dict, List, Tuple\n",
    "import lib.aochelper as aoc\n",
    "from lib.aochelper import map_e"
   ]
  },
  {
   "cell_type": "code",
   "execution_count": null,
   "metadata": {},
   "outputs": [],
   "source": [
    "import logging\n",
    "logging.basicConfig(stream=sys.stdout, level=logging.INFO)\n",
    "log = logging.getLogger(__name__)"
   ]
  },
  {
   "cell_type": "code",
   "execution_count": null,
   "metadata": {},
   "outputs": [],
   "source": [
    "## PROBLEM DOMAIN code\n",
    "import re\n",
    "#from timeit import default_timer as timer  # performance timing measurement"
   ]
  },
  {
   "cell_type": "code",
   "execution_count": null,
   "metadata": {},
   "outputs": [],
   "source": [
    "def parse_commands(cmd_strs: List[str]) -> list:\n",
    "  cmds = []\n",
    "  cut_re = re.compile(r'(cut) (-?\\d+)')\n",
    "  dealinc_re = re.compile(r'(deal with increment) (-?\\d+)')\n",
    "  for cmdstr in cmd_strs:\n",
    "    if cmdstr == \"deal into new stack\":\n",
    "      cmd = ['new_stack', None]\n",
    "    elif cmdstr.startswith('cut '):\n",
    "      m = cut_re.match(cmdstr)\n",
    "      p1 = int(m.group(2))\n",
    "      cmd = ['cut', p1]\n",
    "    elif cmdstr.startswith('deal with increment '):\n",
    "      m = dealinc_re.match(cmdstr)\n",
    "      p1 = int(m.group(2))\n",
    "      cmd = ['dealinc', p1]\n",
    "    else:\n",
    "      raise(RuntimeError(f\"unparsed command {cmdstr}!\"))\n",
    "    cmds.append(cmd)\n",
    "  #log.info(f\"parse_commands: returns {cmds}\")\n",
    "  return cmds"
   ]
  },
  {
   "cell_type": "code",
   "execution_count": null,
   "metadata": {},
   "outputs": [],
   "source": [
    "def shuffle_cards_cmds(cards_num: int, cmds: list):\n",
    "  cards = list(range(cards_num))\n",
    "  cards_len = len(cards)\n",
    "  for cmd in cmds:\n",
    "    c, p = cmd[0], cmd[1]\n",
    "    if c == 'new_stack':\n",
    "      cards.reverse()\n",
    "    elif c == 'cut':\n",
    "      if p > 0:\n",
    "        cards = cards[p:] + cards[0:p]\n",
    "      elif p < 0:\n",
    "        cards = cards[p:] + cards[0:cards_len+p]\n",
    "      else:\n",
    "        raise(RuntimeError(f\"unhandled cut param {p}!\"))\n",
    "    elif c == 'dealinc':\n",
    "      if p > 0:\n",
    "        outcards = cards.copy()\n",
    "        for idx, val in enumerate(cards):\n",
    "          outcards[(idx*p) % cards_len] = val\n",
    "        cards = outcards\n",
    "      else:\n",
    "        raise(RuntimeError(f\"unhandled dealinc param {p}!\"))\n",
    "    else:\n",
    "      raise(RuntimeError(f\"unhandled command {cmd}!\"))\n",
    "  #log.info(f\"shuffle_cards_cmds: returns {cards}\")\n",
    "  return cards"
   ]
  },
  {
   "cell_type": "code",
   "execution_count": null,
   "metadata": {},
   "outputs": [],
   "source": [
    "## MAIN"
   ]
  },
  {
   "cell_type": "code",
   "execution_count": null,
   "metadata": {},
   "outputs": [],
   "source": [
    "### tests"
   ]
  },
  {
   "cell_type": "code",
   "execution_count": null,
   "metadata": {},
   "outputs": [],
   "source": [
    "## example 1\n",
    "cards_num = 10\n",
    "cmds_str = [\"deal into new stack\"]\n",
    "expected = '9 8 7 6 5 4 3 2 1 0'\n",
    "\n",
    "cmds = parse_commands(cmds_str)\n",
    "cards = shuffle_cards_cmds(cards_num, cmds)\n",
    "result = ' '.join(map_e(str, cards))\n",
    "aoc.assert_msg(f\"input={cards_num}, #cmds={len(cmds)} expects output={expected}, got {result}\", expected == result)"
   ]
  },
  {
   "cell_type": "code",
   "execution_count": null,
   "metadata": {},
   "outputs": [],
   "source": [
    "## example 2\n",
    "cards_num = 10\n",
    "cmds_str = [\"cut 3\"]\n",
    "expected = '3 4 5 6 7 8 9 0 1 2'\n",
    "\n",
    "cmds = parse_commands(cmds_str)\n",
    "cards = shuffle_cards_cmds(cards_num, cmds)\n",
    "result = ' '.join(map_e(str, cards))\n",
    "aoc.assert_msg(f\"input={cards_num}, #cmds={len(cmds)} expects output={expected}, got {result}\", expected == result)"
   ]
  },
  {
   "cell_type": "code",
   "execution_count": null,
   "metadata": {},
   "outputs": [],
   "source": [
    "## example 3\n",
    "cards_num = 10\n",
    "cmds_str = [\"cut -4\"]\n",
    "expected = '6 7 8 9 0 1 2 3 4 5'\n",
    "\n",
    "cmds = parse_commands(cmds_str)\n",
    "cards = shuffle_cards_cmds(cards_num, cmds)\n",
    "result = ' '.join(map_e(str, cards))\n",
    "aoc.assert_msg(f\"input={cards_num}, #cmds={len(cmds)} expects output={expected}, got {result}\", expected == result)"
   ]
  },
  {
   "cell_type": "code",
   "execution_count": null,
   "metadata": {},
   "outputs": [],
   "source": [
    "## example 4\n",
    "cards_num = 10\n",
    "cmds_str = [\"deal with increment 3\"]\n",
    "expected = '0 7 4 1 8 5 2 9 6 3'\n",
    "\n",
    "cmds = parse_commands(cmds_str)\n",
    "cards = shuffle_cards_cmds(cards_num, cmds)\n",
    "result = ' '.join(map_e(str, cards))\n",
    "aoc.assert_msg(f\"input={cards_num}, #cmds={len(cmds)} expects output={expected}, got {result}\", expected == result)"
   ]
  },
  {
   "cell_type": "code",
   "execution_count": null,
   "metadata": {},
   "outputs": [],
   "source": [
    "## example multi-1\n",
    "ins = \"\"\"\n",
    "deal with increment 7\n",
    "deal into new stack\n",
    "deal into new stack\n",
    "\"\"\".strip()\n",
    "cards_num = 10\n",
    "cmds_str = ins.split(\"\\n\")\n",
    "expected = '0 3 6 9 2 5 8 1 4 7'\n",
    "\n",
    "cmds = parse_commands(cmds_str)\n",
    "cards = shuffle_cards_cmds(cards_num, cmds)\n",
    "result = ' '.join(map_e(str, cards))\n",
    "aoc.assert_msg(f\"input={cards_num}, #cmds={len(cmds)} expects output={expected}, got {result}\", expected == result)"
   ]
  },
  {
   "cell_type": "code",
   "execution_count": null,
   "metadata": {},
   "outputs": [],
   "source": [
    "## example multi-2\n",
    "ins = \"\"\"\n",
    "cut 6\n",
    "deal with increment 7\n",
    "deal into new stack\n",
    "\"\"\".strip()\n",
    "cards_num = 10\n",
    "cmds_str = ins.split(\"\\n\")\n",
    "expected = '3 0 7 4 1 8 5 2 9 6'\n",
    "\n",
    "cmds = parse_commands(cmds_str)\n",
    "cards = shuffle_cards_cmds(cards_num, cmds)\n",
    "result = ' '.join(map_e(str, cards))\n",
    "aoc.assert_msg(f\"input={cards_num}, #cmds={len(cmds)} expects output={expected}, got {result}\", expected == result)"
   ]
  },
  {
   "cell_type": "code",
   "execution_count": null,
   "metadata": {},
   "outputs": [],
   "source": [
    "## example multi-3\n",
    "ins = \"\"\"\n",
    "deal with increment 7\n",
    "deal with increment 9\n",
    "cut -2\n",
    "\"\"\".strip()\n",
    "cards_num = 10\n",
    "cmds_str = ins.split(\"\\n\")\n",
    "expected = '6 3 0 7 4 1 8 5 2 9'\n",
    "\n",
    "cmds = parse_commands(cmds_str)\n",
    "cards = shuffle_cards_cmds(cards_num, cmds)\n",
    "result = ' '.join(map_e(str, cards))\n",
    "aoc.assert_msg(f\"input={cards_num}, #cmds={len(cmds)} expects output={expected}, got {result}\", expected == result)"
   ]
  },
  {
   "cell_type": "code",
   "execution_count": null,
   "metadata": {},
   "outputs": [],
   "source": [
    "## example multi-4\n",
    "ins = \"\"\"\n",
    "deal into new stack\n",
    "cut -2\n",
    "deal with increment 7\n",
    "cut 8\n",
    "cut -4\n",
    "deal with increment 7\n",
    "cut 3\n",
    "deal with increment 9\n",
    "deal with increment 3\n",
    "cut -1\n",
    "\"\"\".strip()\n",
    "cards_num = 10\n",
    "cmds_str = ins.split(\"\\n\")\n",
    "expected = '9 2 5 8 1 4 7 0 3 6'\n",
    "\n",
    "cmds = parse_commands(cmds_str)\n",
    "cards = shuffle_cards_cmds(cards_num, cmds)\n",
    "result = ' '.join(map_e(str, cards))\n",
    "aoc.assert_msg(f\"input={cards_num}, #cmds={len(cmds)} expects output={expected}, got {result}\", expected == result)\n",
    "\n",
    "#log.info(type(cards[0]))\n",
    "log.info(cards.index(2))"
   ]
  },
  {
   "cell_type": "code",
   "execution_count": null,
   "metadata": {},
   "outputs": [],
   "source": [
    "### personal input solution"
   ]
  },
  {
   "cell_type": "code",
   "execution_count": null,
   "metadata": {},
   "outputs": [],
   "source": [
    "log.setLevel(logging.INFO)\n",
    "data = aoc.read_file_to_str(\"day22.in\").strip()\n",
    "log.info(f\"data-len={len(data)}, data={data[:40]}...\")\n",
    "\n",
    "cards_num = 10007\n",
    "cmds_str = data.split(\"\\n\")\n",
    "\n",
    "cmds = parse_commands(cmds_str)\n",
    "cards = shuffle_cards_cmds(cards_num, cmds)\n",
    "result = cards.index(2019)\n",
    "print(f\"result pos={result}\")  # 0-based \"position\" index"
   ]
  }
 ],
 "metadata": {
  "kernelspec": {
   "display_name": "Python 3",
   "language": "python",
   "name": "python3"
  },
  "language_info": {
   "codemirror_mode": {
    "name": "ipython",
    "version": 3
   },
   "file_extension": ".py",
   "mimetype": "text/x-python",
   "name": "python",
   "nbconvert_exporter": "python",
   "pygments_lexer": "ipython3",
   "version": "3.7.5"
  }
 },
 "nbformat": 4,
 "nbformat_minor": 4
}
