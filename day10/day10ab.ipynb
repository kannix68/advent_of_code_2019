{
 "cells": [
  {
   "cell_type": "code",
   "execution_count": null,
   "metadata": {},
   "outputs": [],
   "source": [
    "##\n",
    "# Advent of code 2019, AoC day 10 puzzle 1 and 2\n",
    "# This solution (python3.7 jupyter notebook) by kannix68, @ 2020-01-05.\n",
    "\n",
    "import sys\n",
    "sys.path.insert(0, '..')  # allow import from parent dir\n",
    "import lib.aochelper as aoc"
   ]
  },
  {
   "cell_type": "code",
   "execution_count": null,
   "metadata": {},
   "outputs": [],
   "source": [
    "import logging\n",
    "logging.basicConfig(stream=sys.stdout, level=logging.INFO)\n",
    "log = logging.getLogger(__name__)"
   ]
  },
  {
   "cell_type": "code",
   "execution_count": null,
   "metadata": {},
   "outputs": [],
   "source": [
    "## PROBLEM DOMAIN code"
   ]
  },
  {
   "cell_type": "code",
   "execution_count": null,
   "metadata": {},
   "outputs": [],
   "source": [
    "# for arrays / 2d matrices,\n",
    "import itertools\n",
    "import math"
   ]
  },
  {
   "cell_type": "code",
   "execution_count": null,
   "metadata": {},
   "outputs": [],
   "source": [
    "def angle_eq(direction1, direction2):\n",
    "  \"\"\"Determine if two direction vectors (x,y) have the same angle.\"\"\"\n",
    "  dir1_0, dir1_1, dir2_0, dir2_1 = direction1[0], direction1[1], direction2[0], direction2[1]\n",
    "  #-if aoc.sign(seen_d2[0])==aoc.sign(d2[0]) and aoc.sign(seen_d2[1])==aoc.sign(d2[1]) \\\n",
    "  #-  and d2[0] % seen_d2[0] == 0 and d2[1] % seen_d2[1] == 0:\n",
    "  #math.atan2(dir2_1-dir1_1, dir2_0-dir1_0)\n",
    "  at1 = math.atan2(dir1_1, dir1_0)\n",
    "  at2 = math.atan2(dir2_1, dir2_0)\n",
    "  delta = at1 - at2\n",
    "  cond = abs(delta) < 1e-9\n",
    "  #log.debug(f\"angle_eq: dir1={direction1}, dir2={direction2}, atan2:1={at1}, atan2:2={at2}, cond={cond}\")\n",
    "  return cond"
   ]
  },
  {
   "cell_type": "code",
   "execution_count": null,
   "metadata": {},
   "outputs": [],
   "source": [
    "def get_space2d_from_str(s: str) -> list:\n",
    "  space_2d = []\n",
    "  for l in s.split(\"\\n\"):\n",
    "    space_2d.append(list(l))\n",
    "  log.debug(f\"space=\\n{aoc.represent_2d_char_list(space_2d)}\")\n",
    "  return space_2d"
   ]
  },
  {
   "cell_type": "code",
   "execution_count": null,
   "metadata": {},
   "outputs": [],
   "source": [
    "def get_bodies_list(space_2d: list) -> list:\n",
    "  bodies = []\n",
    "  for y in range(len(space_2d)):\n",
    "    for x in range(len(space_2d[0])):\n",
    "      if space_2d[y][x] == '#':\n",
    "        c = tuple([x,y])\n",
    "        log.debug(f\"body found at {c}\")\n",
    "        bodies.append(c)\n",
    "  log.info(f\"found {len(bodies)} bodies\")\n",
    "  return bodies"
   ]
  },
  {
   "cell_type": "code",
   "execution_count": null,
   "metadata": {},
   "outputs": [],
   "source": [
    "def get_distances_from_bodies(bodies):\n",
    "  \"\"\"Returns a dict of dicts containing distances\"\"\"\n",
    "  distances = {}\n",
    "  combis = list(itertools.combinations(bodies, 2))\n",
    "  log.info(f\"to handle {len(combis)} body-combinations\")\n",
    "  for combi in combis:\n",
    "    b1, b2 = combi\n",
    "    log.debug(f\"b1={b1}, b2={b2}\")\n",
    "    if not b1 in distances:\n",
    "      distances[b1] = {}\n",
    "    if not b2 in distances:\n",
    "      distances[b2] = {}\n",
    "    b1dists = distances[b1]\n",
    "    b2dists = distances[b2]\n",
    "    dist1 = abs(b2[0]-b1[0]) + abs(b2[1]-b1[1])\n",
    "    dist2 = [b2[0]-b1[0], b2[1]-b1[1]]\n",
    "    b1dists[b2] = {'dist1': dist1, 'dist2': dist2}  \n",
    "    b2dists[b1] = {'dist1': dist1, 'dist2': list(map(lambda v: -v, dist2))}\n",
    "    #log.debug(f\"added distances {b1}=>{b1dists} and {b2}=>{b2dists}\")\n",
    "  return distances"
   ]
  },
  {
   "cell_type": "code",
   "execution_count": null,
   "metadata": {},
   "outputs": [],
   "source": [
    "def body_sees_bodies(b1: tuple, distances: dict) -> int:\n",
    "  \"\"\"Return how many bodies a given obersver-body can see in grid given by distances-dict-dict.\"\"\"\n",
    "  cur_dist = -1\n",
    "  bodists = distances[b1]\n",
    "  seen_dists = []\n",
    "  seen_bodies = []\n",
    "  for b2, b12dists in sorted(bodists.items(), key=lambda it: it[1]['dist1']): # it[0]=key, it[1]=value\n",
    "    log.debug(f\"b1={b1}->b2={b2} => {bodists[b2]}\")\n",
    "    d1, d2 = b12dists['dist1'], b12dists['dist2']\n",
    "    if d1 > cur_dist:\n",
    "      log.debug(f\"new distance layer {d1}\")\n",
    "      cur_dist = d1\n",
    "      seen_dists.append(cur_dist)\n",
    "    if d1 < 2:\n",
    "      seen_bodies.append([b2, d1, d2])\n",
    "    else:\n",
    "      blocked = False\n",
    "      for sd in seen_dists:\n",
    "        #if sd < d1 and d1 % sd == 0:  # current dist is multiple of a seen dist\n",
    "        if sd >= d1:\n",
    "          continue\n",
    "        for bodylst in seen_bodies:  # search previously seen bodies\n",
    "          if bodylst[1] == sd:  # only search current seen-distance\n",
    "            seen_d2 = bodylst[2]\n",
    "            # check for equal signs of x and y component of dist2d,\n",
    "            #  then check for amounts exactly multiple of seen amounts:\n",
    "            if angle_eq(d2, seen_d2):\n",
    "              # for example1: from (1,0) [(4, 3), 6, [3, 3]] SHOULD BE blocked by (3, 2), 4, [2, 2]\n",
    "              log.debug(f\"b1={b1}->b2={b2} d1={d1},d2={d2} IS BLOCKED by {bodylst}\")\n",
    "              blocked = True      \n",
    "      if not blocked:\n",
    "        seen_bodies.append([b2, d1, d2])\n",
    "  log.debug(f\"seen # {len(seen_bodies)} bodies={seen_bodies}\")\n",
    "  return len(seen_bodies)"
   ]
  },
  {
   "cell_type": "code",
   "execution_count": null,
   "metadata": {},
   "outputs": [],
   "source": [
    "def get_body_max_seeing(distances: dict) -> list:\n",
    "  body_num = 0\n",
    "  max_seen_body = tuple([-1,-1])\n",
    "  max_seen_num = 0\n",
    "  for b1 in distances.keys():\n",
    "    body_num += 1\n",
    "    #if body_num > 1:\n",
    "    #  log.warning(\"fail loop for DEBUG\")\n",
    "    #  break\n",
    "    log.debug(f\"current #{body_num} b1={b1}!\")\n",
    "    seen_bodies_num = body_sees_bodies(b1, distances)\n",
    "    if seen_bodies_num > max_seen_num:\n",
    "      max_seen_num = seen_bodies_num\n",
    "      max_seen_body = b1\n",
    "      log.debug(f\"new max-seen body={max_seen_body} sees {max_seen_num} bodies\")\n",
    "  return [max_seen_body, max_seen_num]"
   ]
  },
  {
   "cell_type": "code",
   "execution_count": null,
   "metadata": {},
   "outputs": [],
   "source": [
    "def solve(ins: str) -> int:\n",
    "  \"\"\"Return max seen bodies.\"\"\"\n",
    "  space_2d = get_space2d_from_str(ins)\n",
    "  bodies = get_bodies_list(space_2d)\n",
    "  distances = get_distances_from_bodies(bodies)\n",
    "  reslst = get_body_max_seeing(distances)\n",
    "  log.info(f\"reslst(body,seen-bodies)={reslst}\")\n",
    "  return reslst[1]"
   ]
  },
  {
   "cell_type": "code",
   "execution_count": null,
   "metadata": {},
   "outputs": [],
   "source": [
    "## MAIN"
   ]
  },
  {
   "cell_type": "code",
   "execution_count": null,
   "metadata": {},
   "outputs": [],
   "source": [
    "### tests\n",
    "log.setLevel(logging.INFO)"
   ]
  },
  {
   "cell_type": "code",
   "execution_count": null,
   "metadata": {},
   "outputs": [],
   "source": [
    "## example 1\n",
    "ins = \"\"\"\n",
    ".#..#\n",
    ".....\n",
    "#####\n",
    "....#\n",
    "...##\n",
    "\"\"\".strip()\n",
    "#log.debug(f\"ins=\\n{ins}\")\n",
    "\n",
    "result = solve(ins)\n",
    "expected = 8\n",
    "aoc.assert_msg(f\"input={ins} expects output={expected}, got {result}\", expected == result)"
   ]
  },
  {
   "cell_type": "code",
   "execution_count": null,
   "metadata": {},
   "outputs": [],
   "source": [
    "## example 3\n",
    "ins = \"\"\"\n",
    "......#.#.\n",
    "#..#.#....\n",
    "..#######.\n",
    ".#.#.###..\n",
    ".#..#.....\n",
    "..#....#.#\n",
    "#..#....#.\n",
    ".##.#..###\n",
    "##...#..#.\n",
    ".#....####\n",
    "\"\"\".strip()\n",
    "result = solve(ins)\n",
    "expected = 33\n",
    "aoc.assert_msg(f\"input={ins} expects output={expected}, got {result}\", expected == result)"
   ]
  },
  {
   "cell_type": "code",
   "execution_count": null,
   "metadata": {},
   "outputs": [],
   "source": [
    "## example 4\n",
    "ins = \"\"\"\n",
    "#.#...#.#.\n",
    ".###....#.\n",
    ".#....#...\n",
    "##.#.#.#.#\n",
    "....#.#.#.\n",
    ".##..###.#\n",
    "..#...##..\n",
    "..##....##\n",
    "......#...\n",
    ".####.###.\n",
    "\"\"\".strip()\n",
    "result = solve(ins)\n",
    "expected = 35\n",
    "aoc.assert_msg(f\"input={ins} expects output={expected}, got {result}\", expected == result)"
   ]
  },
  {
   "cell_type": "code",
   "execution_count": null,
   "metadata": {},
   "outputs": [],
   "source": [
    "## example 5\n",
    "ins = \"\"\"\n",
    ".#..#..###\n",
    "####.###.#\n",
    "....###.#.\n",
    "..###.##.#\n",
    "##.##.#.#.\n",
    "....###..#\n",
    "..#.#..#.#\n",
    "#..#.#.###\n",
    ".##...##.#\n",
    ".....#.#..\n",
    "\"\"\".strip()\n",
    "result = solve(ins)\n",
    "expected = 41\n",
    "aoc.assert_msg(f\"input={ins} expects output={expected}, got {result}\", expected == result)"
   ]
  },
  {
   "cell_type": "code",
   "execution_count": null,
   "metadata": {},
   "outputs": [],
   "source": [
    "## example 6\n",
    "ins = \"\"\"\n",
    ".#..##.###...#######\n",
    "##.############..##.\n",
    ".#.######.########.#\n",
    ".###.#######.####.#.\n",
    "#####.##.#.##.###.##\n",
    "..#####..#.#########\n",
    "####################\n",
    "#.####....###.#.#.##\n",
    "##.#################\n",
    "#####.##.###..####..\n",
    "..######..##.#######\n",
    "####.##.####...##..#\n",
    ".#####..#.######.###\n",
    "##...#.##########...\n",
    "#.##########.#######\n",
    ".####.#.###.###.#.##\n",
    "....##.##.###..#####\n",
    ".#.#.###########.###\n",
    "#.#.#.#####.####.###\n",
    "###.##.####.##.#..##\n",
    "\"\"\".strip()\n",
    "ex6_ins = ins # store for later use\n",
    "result = solve(ins)\n",
    "expected = 210\n",
    "aoc.assert_msg(f\"input={ins} expects output={expected}, got {result}\", expected == result)"
   ]
  },
  {
   "cell_type": "code",
   "execution_count": null,
   "metadata": {},
   "outputs": [],
   "source": [
    "### personal input solution"
   ]
  },
  {
   "cell_type": "code",
   "execution_count": null,
   "metadata": {},
   "outputs": [],
   "source": [
    "log.setLevel(logging.INFO)\n",
    "data = aoc.read_file_to_str(\"day10.in\").strip()\n",
    "log.info(f\"data=\\n{data}\")\n",
    "res = solve(data)\n",
    "print(f\"result={res}\")"
   ]
  },
  {
   "cell_type": "code",
   "execution_count": null,
   "metadata": {},
   "outputs": [],
   "source": [
    "## PUZZLE 2"
   ]
  },
  {
   "cell_type": "code",
   "execution_count": null,
   "metadata": {},
   "outputs": [],
   "source": [
    "def dist_between(a, b):\n",
    "  \"\"\"Return 2d distance between 2 2d points, seen from point a.\"\"\"\n",
    "  return [b[0]-a[0], b[1]-a[1]]"
   ]
  },
  {
   "cell_type": "code",
   "execution_count": null,
   "metadata": {},
   "outputs": [],
   "source": [
    "## Continuous 0..2*PI starting from direction north.\n",
    "def angle_to(x: int, y: int) -> int:\n",
    "  \"\"\"Return angle for given vector pointing from orign (0,0), adjusted for north=0\"\"\"\n",
    "  #xt,yt = y,x\n",
    "  #rad = math.atan2(yt,xt)\n",
    "  rad = math.atan2(x,y)\n",
    "  if rad < 0.0:\n",
    "    rad = math.pi + (math.pi + rad)\n",
    "  return rad"
   ]
  },
  {
   "cell_type": "code",
   "execution_count": null,
   "metadata": {},
   "outputs": [],
   "source": [
    "def distsq_to(x: int, y: int) -> int:\n",
    "  return x*x + y*y"
   ]
  },
  {
   "cell_type": "code",
   "execution_count": null,
   "metadata": {},
   "outputs": [],
   "source": [
    "a = angle_to(0,1)\n",
    "assert aoc.fcmp(a,0), f\"north expected=0, found={a}\"\n",
    "\n",
    "a = angle_to(1,0)\n",
    "e = math.pi/2\n",
    "t = aoc.fcmp(a,e)\n",
    "assert t, f\"east expected={e}, found={a} validating {t}\"\n",
    "\n",
    "a = angle_to(0,-1)\n",
    "e = math.pi\n",
    "assert aoc.fcmp(a,e), f\"south expected={e}, found={a} validating {t}\"\n",
    "\n",
    "a = angle_to(-1,-1)\n",
    "e = math.pi + math.pi/4\n",
    "assert aoc.fcmp(a,e), f\"south-west expected={e}, found={a} validating {t}\"\n",
    "\n",
    "a = angle_to(-1,0)\n",
    "e = 1.5 * math.pi\n",
    "assert aoc.fcmp(a,e), f\"south-west expected={e}, found={a} validating {t}\""
   ]
  },
  {
   "cell_type": "code",
   "execution_count": null,
   "metadata": {},
   "outputs": [],
   "source": [
    "dist_between([-1,-1], [1,2])"
   ]
  },
  {
   "cell_type": "code",
   "execution_count": null,
   "metadata": {},
   "outputs": [],
   "source": [
    "def solve2(ins: str) -> int:\n",
    "  \"\"\"Return max seen bodies.\"\"\"\n",
    "  space_2d = get_space2d_from_str(ins)\n",
    "  bodies = get_bodies_list(space_2d)\n",
    "  distances = get_distances_from_bodies(bodies)\n",
    "  reslst = get_body_max_seeing(distances)\n",
    "  log.info(f\"reslst(body,seen-bodies)={reslst}\")\n",
    "  return reslst"
   ]
  },
  {
   "cell_type": "code",
   "execution_count": null,
   "metadata": {},
   "outputs": [],
   "source": [
    "def rotate_laser(base, seen_bodies):\n",
    "  destroyed_bodies = []\n",
    "  bodies_ang_dist = {}\n",
    "  for body in seen_bodies:\n",
    "    vec = dist_between(base, body)\n",
    "    dsq = distsq_to(vec[0], vec[1])\n",
    "    ang = angle_to(vec[0], -vec[1])\n",
    "    log.debug(f\"bs={base}->b2={body}: vec={vec}, dsq={dsq}, angle={ang}\")\n",
    "    if not ang in bodies_ang_dist:\n",
    "      bodies_ang_dist[ang] = {}\n",
    "    bodies_ang_dist[ang][dsq] = body\n",
    "  log.debug(f\"bodies_ang_dist={bodies_ang_dist}\")\n",
    "\n",
    "  rot_num = 0\n",
    "  while(len(bodies_ang_dist.keys()) > 0):\n",
    "    rot_num +=1\n",
    "    for ang in sorted(bodies_ang_dist.keys()):\n",
    "      for dist in sorted(bodies_ang_dist[ang].keys()):\n",
    "        log.debug(f\"DESTROY ang={ang}, dist={dist}, body={bodies_ang_dist[ang][dist]}\")\n",
    "        destroyed_bodies.append(bodies_ang_dist[ang][dist])\n",
    "        del bodies_ang_dist[ang][dist]\n",
    "        break\n",
    "      if len(bodies_ang_dist[ang].keys()) <= 0:\n",
    "        log.debug(f\"remove angle {ang}\")\n",
    "        del bodies_ang_dist[ang]\n",
    "        #continue\n",
    "  log.info(f\"rotate_laser: finished in rotation {rot_num}, destroyed {len(destroyed_bodies)} bodies\")\n",
    "  return destroyed_bodies"
   ]
  },
  {
   "cell_type": "code",
   "execution_count": null,
   "metadata": {},
   "outputs": [],
   "source": [
    "## example 2-1\n",
    "ins = \"\"\"\n",
    ".#....#####...#..\n",
    "##...##.#####..##\n",
    "##...#...#.#####.\n",
    "..#.....X...###..\n",
    "..#.#.....#....##\n",
    "\"\"\".strip().replace('X','#')\n",
    "\n",
    "space_2d = get_space2d_from_str(ins)\n",
    "bodies = get_bodies_list(space_2d)\n",
    "distances = get_distances_from_bodies(bodies)\n",
    "body_max_seeing = get_body_max_seeing(distances)\n",
    "\n",
    "result = body_max_seeing[0]\n",
    "expected = tuple([8, 3])\n",
    "aoc.assert_msg(f\"input={ins} expects output={expected}, got {result}\", expected == result)\n",
    "\n",
    "base = result\n",
    "log.info(f\"base is {base}\")\n",
    "seen_bodies = distances[base].keys()\n",
    "l = rotate_laser(base, seen_bodies)"
   ]
  },
  {
   "cell_type": "code",
   "execution_count": null,
   "metadata": {},
   "outputs": [],
   "source": [
    "## example 2-2\n",
    "ins = \"\"\"\n",
    ".#..##.###...#######\n",
    "##.############..##.\n",
    ".#.######.########.#\n",
    ".###.#######.####.#.\n",
    "#####.##.#.##.###.##\n",
    "..#####..#.#########\n",
    "####################\n",
    "#.####....###.#.#.##\n",
    "##.#################\n",
    "#####.##.###..####..\n",
    "..######..##.#######\n",
    "####.##.####...##..#\n",
    ".#####..#.######.###\n",
    "##...#.##########...\n",
    "#.##########.#######\n",
    ".####.#.###.###.#.##\n",
    "....##.##.###..#####\n",
    ".#.#.###########.###\n",
    "#.#.#.#####.####.###\n",
    "###.##.####.##.#..##\n",
    "\"\"\".strip()\n",
    "space_2d = get_space2d_from_str(ins)\n",
    "bodies = get_bodies_list(space_2d)\n",
    "distances = get_distances_from_bodies(bodies)\n",
    "body_max_seeing = get_body_max_seeing(distances)\n",
    "base = body_max_seeing[0]\n",
    "log.info(f\"base is {base}\")\n",
    "seen_bodies = distances[base].keys()\n",
    "l = rotate_laser(base, seen_bodies)\n",
    "log.info(f\"destroyed {l}\")\n",
    "trg = l[199]\n",
    "trg2 = trg[0]*100+trg[1]\n",
    "log.info(f\"destroyed 200th={trg} => {trg2}\")"
   ]
  },
  {
   "cell_type": "code",
   "execution_count": null,
   "metadata": {},
   "outputs": [],
   "source": [
    "## personal input solution, puzzle 2\n",
    "log.setLevel(logging.INFO)\n",
    "data = aoc.read_file_to_str(\"day10.in\").strip()\n",
    "log.info(f\"data=\\n{data}\")\n",
    "\n",
    "space_2d = get_space2d_from_str(data)\n",
    "bodies = get_bodies_list(space_2d)\n",
    "distances = get_distances_from_bodies(bodies)\n",
    "body_max_seeing = get_body_max_seeing(distances)\n",
    "base = body_max_seeing[0]\n",
    "log.info(f\"base is {base}\")\n",
    "seen_bodies = distances[base].keys()\n",
    "l = rotate_laser(base, seen_bodies)\n",
    "log.info(f\"destroyed {l}\")\n",
    "trg = l[199]\n",
    "trg2 = trg[0]*100+trg[1]\n",
    "log.info(f\"destroyed 200th={trg} => {trg2}\")"
   ]
  }
 ],
 "metadata": {
  "kernelspec": {
   "display_name": "Python 3",
   "language": "python",
   "name": "python3"
  },
  "language_info": {
   "codemirror_mode": {
    "name": "ipython",
    "version": 3
   },
   "file_extension": ".py",
   "mimetype": "text/x-python",
   "name": "python",
   "nbconvert_exporter": "python",
   "pygments_lexer": "ipython3",
   "version": "3.7.5"
  }
 },
 "nbformat": 4,
 "nbformat_minor": 4
}
