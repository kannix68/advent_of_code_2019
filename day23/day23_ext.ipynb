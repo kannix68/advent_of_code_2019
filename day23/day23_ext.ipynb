{
 "cells": [
  {
   "cell_type": "code",
   "execution_count": null,
   "metadata": {},
   "outputs": [],
   "source": [
    "# external code solution by metalim as jupyter notebook,\n",
    "# see: https://www.reddit.com/r/adventofcode/comments/eefva8/2019_day_23_solutions/\n",
    "# and: https://github.com/metalim/metalim.adventofcode.2019.python"
   ]
  },
  {
   "cell_type": "code",
   "execution_count": null,
   "metadata": {},
   "outputs": [],
   "source": [
    "import intcode\n",
    "from collections import deque\n",
    "from itertools import count\n",
    "\n",
    "with open('day23.in') as file:\n",
    "    input = file.read()"
   ]
  },
  {
   "cell_type": "code",
   "execution_count": null,
   "metadata": {},
   "outputs": [],
   "source": [
    "\n",
    "def init():\n",
    "    prog = intcode.parse(input)\n",
    "    qs = [deque() for i in range(50)]\n",
    "    procs = []\n",
    "    for i in range(50):\n",
    "        proc = intcode.run(prog.copy())\n",
    "        procs.append(proc)\n",
    "        next(proc)\n",
    "        v = proc.send(i)\n",
    "        assert v == None\n",
    "    return procs, qs\n",
    "\n",
    "def runnet(procs, qs):\n",
    "    for step in count():\n",
    "        for i,q in enumerate(qs):\n",
    "            p = procs[i] # it is in input state\n",
    "            if len(q)>0:\n",
    "                assert len(q)>=2\n",
    "                v = p.send(q.popleft())\n",
    "                assert v==None\n",
    "                v = p.send(q.popleft())\n",
    "            else:\n",
    "                v = p.send(-1)\n",
    "            while v != None:\n",
    "                addr = v\n",
    "                x = next(p)\n",
    "                y = next(p)\n",
    "                v = next(p)\n",
    "                if addr == 255:\n",
    "                    return x,y\n",
    "                qs[addr].append(x)\n",
    "                qs[addr].append(y)\n"
   ]
  },
  {
   "cell_type": "code",
   "execution_count": null,
   "metadata": {},
   "outputs": [],
   "source": [
    "%%time\n",
    "\n",
    "procs, qs = init()\n",
    "runnet(procs, qs)\n",
    "# second value is requested answer"
   ]
  },
  {
   "cell_type": "code",
   "execution_count": null,
   "metadata": {},
   "outputs": [],
   "source": [
    "def runnet2(procs, qs):\n",
    "    nat = (0,0)\n",
    "    lastnat = nat\n",
    "    for step in count():\n",
    "        for i,q in enumerate(qs):\n",
    "            p = procs[i] # it is in input state\n",
    "            if len(q)>0:\n",
    "                assert len(q)>=2\n",
    "                v = p.send(q.popleft())\n",
    "                assert v==None\n",
    "                v = p.send(q.popleft())\n",
    "            else:\n",
    "                v = p.send(-1)\n",
    "            while v != None:\n",
    "                addr = v\n",
    "                x = next(p)\n",
    "                y = next(p)\n",
    "                v = next(p)\n",
    "                if addr == 255:\n",
    "                    nat = x,y\n",
    "                    continue\n",
    "                qs[addr].append(x)\n",
    "                qs[addr].append(y)\n",
    "\n",
    "        if any(qs):\n",
    "            continue\n",
    "\n",
    "        if nat[1] == lastnat[1]:\n",
    "            return nat[1]\n",
    "        lastnat = nat\n",
    "        qs[0].append(nat[0])\n",
    "        qs[0].append(nat[1])\n"
   ]
  },
  {
   "cell_type": "code",
   "execution_count": null,
   "metadata": {},
   "outputs": [],
   "source": [
    "%%time\n",
    "\n",
    "procs, qs = init()\n",
    "runnet2(procs, qs)\n"
   ]
  }
 ],
 "metadata": {
  "file_extension": ".py",
  "kernelspec": {
   "display_name": "Python 3",
   "language": "python",
   "name": "python3"
  },
  "language_info": {
   "codemirror_mode": {
    "name": "ipython",
    "version": 3
   },
   "file_extension": ".py",
   "mimetype": "text/x-python",
   "name": "python",
   "nbconvert_exporter": "python",
   "pygments_lexer": "ipython3",
   "version": "3.7.6"
  },
  "mimetype": "text/x-python",
  "name": "python",
  "npconvert_exporter": "python",
  "pygments_lexer": "ipython3",
  "version": 3
 },
 "nbformat": 4,
 "nbformat_minor": 4
}
