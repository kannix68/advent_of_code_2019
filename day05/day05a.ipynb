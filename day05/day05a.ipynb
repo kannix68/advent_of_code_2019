{
 "cells": [
  {
   "cell_type": "code",
   "execution_count": null,
   "metadata": {},
   "outputs": [],
   "source": [
    "##\n",
    "# Advent of code 2019, AoC day 5 puzzle 1\n",
    "# This solution (python3.7 jupyter notebook) by kannix68, @ 2020-01-03.\n",
    "\n",
    "import sys\n",
    "sys.path.insert(0, '..')  # allow import from parent dir\n",
    "import lib.aochelper as aoc"
   ]
  },
  {
   "cell_type": "code",
   "execution_count": null,
   "metadata": {},
   "outputs": [],
   "source": [
    "import logging\n",
    "logging.basicConfig(stream=sys.stdout, level=logging.INFO)\n",
    "log = logging.getLogger(__name__)\n",
    "#log.setLevel(logging.DEBUG)\n",
    "log.setLevel(logging.INFO)"
   ]
  },
  {
   "cell_type": "code",
   "execution_count": null,
   "metadata": {},
   "outputs": [],
   "source": [
    "## PROBLEM DOMAIN code\n",
    "from intcode_interpreter import *"
   ]
  },
  {
   "cell_type": "code",
   "execution_count": null,
   "metadata": {},
   "outputs": [],
   "source": [
    "## MAIN"
   ]
  },
  {
   "cell_type": "code",
   "execution_count": null,
   "metadata": {},
   "outputs": [],
   "source": [
    "### tests"
   ]
  },
  {
   "cell_type": "code",
   "execution_count": null,
   "metadata": {},
   "outputs": [],
   "source": [
    "# example \"1\"\n",
    "ins = [3,0,4,0,99] # \"The program 3,0,4,0,99 outputs whatever it gets as input, then halts.\"\n",
    "param = 7\n",
    "computer = IntcodeInterpreter(ins)\n",
    "computer.store_int_stdin(param)\n",
    "computer.interpret_program()\n",
    "#result = computer.mem\n",
    "result = computer.pseudo_stdout[0]\n",
    "expected = param\n",
    "aoc.assert_msg(f\"input={ins} with param={param} expects output={expected}, got {result}\", expected == result)"
   ]
  },
  {
   "cell_type": "code",
   "execution_count": null,
   "metadata": {},
   "outputs": [],
   "source": [
    "# example \"1\", another input\n",
    "ins = [3,0,4,0,99] # \"The program 3,0,4,0,99 outputs whatever it gets as input, then halts.\"\n",
    "param = 88\n",
    "computer = IntcodeInterpreter(ins)\n",
    "computer.store_int_stdin(param)\n",
    "computer.interpret_program()\n",
    "#result = computer.mem\n",
    "result = computer.pseudo_stdout[0]\n",
    "expected = param\n",
    "aoc.assert_msg(f\"input={ins} with param={param} expects output={expected}, got {result}\", expected == result)"
   ]
  },
  {
   "cell_type": "code",
   "execution_count": null,
   "metadata": {},
   "outputs": [],
   "source": [
    "### personal input solution\n",
    "data = aoc.read_file_firstline_to_str('day05.in')\n",
    "data = list(map(int, data.split(',')))\n",
    "print(f\"data-type={type(data)} data={data}\")\n",
    "\n",
    "computer = IntcodeInterpreter(data)\n",
    "computer.store_int_stdin(1)\n",
    "computer.interpret_program()\n",
    "#result = computer.mem\n",
    "result = computer.pseudo_stdout\n",
    "print(f\"result={result}\")"
   ]
  }
 ],
 "metadata": {
  "kernelspec": {
   "display_name": "Python 3",
   "language": "python",
   "name": "python3"
  },
  "language_info": {
   "codemirror_mode": {
    "name": "ipython",
    "version": 3
   },
   "file_extension": ".py",
   "mimetype": "text/x-python",
   "name": "python",
   "nbconvert_exporter": "python",
   "pygments_lexer": "ipython3",
   "version": "3.7.5"
  }
 },
 "nbformat": 4,
 "nbformat_minor": 4
}
