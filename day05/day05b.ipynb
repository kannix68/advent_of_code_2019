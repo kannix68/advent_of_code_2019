{
 "cells": [
  {
   "cell_type": "code",
   "execution_count": null,
   "metadata": {},
   "outputs": [],
   "source": [
    "##\n",
    "# Advent of code 2019, AoC day 5 puzzle 2\n",
    "# This solution (python3.7 jupyter notebook) by kannix68, @ 2020-01-03.\n",
    "\n",
    "import sys\n",
    "sys.path.insert(0, '..')  # allow import from parent dir\n",
    "import lib.aochelper as aoc"
   ]
  },
  {
   "cell_type": "code",
   "execution_count": null,
   "metadata": {},
   "outputs": [],
   "source": [
    "import logging\n",
    "logging.basicConfig(stream=sys.stdout, level=logging.INFO)\n",
    "log = logging.getLogger(__name__)\n",
    "#log.setLevel(logging.DEBUG)\n",
    "log.setLevel(logging.INFO)"
   ]
  },
  {
   "cell_type": "code",
   "execution_count": null,
   "metadata": {},
   "outputs": [],
   "source": [
    "## PROBLEM DOMAIN code\n",
    "from intcode_interpreter import *"
   ]
  },
  {
   "cell_type": "code",
   "execution_count": null,
   "metadata": {},
   "outputs": [],
   "source": [
    "## MAIN"
   ]
  },
  {
   "cell_type": "code",
   "execution_count": null,
   "metadata": {},
   "outputs": [],
   "source": [
    "### tests"
   ]
  },
  {
   "cell_type": "code",
   "execution_count": null,
   "metadata": {},
   "outputs": [],
   "source": [
    "# example \"1\", zero input\n",
    "ins = [3,12,6,12,15,1,13,14,13,4,13,99,-1,0,1,9] # \"using position mode\"\n",
    "param = 0 # \"output 0 if the input was zero or 1 if the input was non-zero\"\n",
    "computer = IntcodeInterpreter(ins)\n",
    "computer.store_int_stdin(param)\n",
    "computer.interpret_program()\n",
    "result = computer.pseudo_stdout\n",
    "print(f\"result out={result}\")\n",
    "result = result[0]\n",
    "expected = 0\n",
    "aoc.assert_msg(f\"input={ins} with param={param} expects output={expected}, got {result}\", expected == result)"
   ]
  },
  {
   "cell_type": "code",
   "execution_count": null,
   "metadata": {},
   "outputs": [],
   "source": [
    "# example \"1\", non-zero input\n",
    "ins = [3,12,6,12,15,1,13,14,13,4,13,99,-1,0,1,9] # \"using position mode\"\n",
    "param = 99 # \"output 0 if the input was zero or 1 if the input was non-zero\"\n",
    "computer = IntcodeInterpreter(ins)\n",
    "computer.store_int_stdin(param)\n",
    "computer.interpret_program()\n",
    "result = computer.pseudo_stdout\n",
    "print(f\"result out={result}\")\n",
    "result = result[0]\n",
    "expected = 1\n",
    "aoc.assert_msg(f\"input={ins} with param={param} expects output={expected}, got {result}\", expected == result)"
   ]
  },
  {
   "cell_type": "code",
   "execution_count": null,
   "metadata": {},
   "outputs": [],
   "source": [
    "# example \"2\", zero input\n",
    "ins = [3,3,1105,-1,9,1101,0,0,12,4,12,99,1] # \"using immediate mode\"\n",
    "param = 0 # \"output 0 if the input was zero or 1 if the input was non-zero\"\n",
    "computer = IntcodeInterpreter(ins)\n",
    "computer.store_int_stdin(param)\n",
    "computer.interpret_program()\n",
    "result = computer.pseudo_stdout\n",
    "print(f\"result out={result}\")\n",
    "result = result[0]\n",
    "expected = 0\n",
    "aoc.assert_msg(f\"input={ins} with param={param} expects output={expected}, got {result}\", expected == result)"
   ]
  },
  {
   "cell_type": "code",
   "execution_count": null,
   "metadata": {},
   "outputs": [],
   "source": [
    "# example \"2\", non-zero input\n",
    "ins = [3,3,1105,-1,9,1101,0,0,12,4,12,99,1] # \"using immediate mode\"\n",
    "param = 999 # \"output 0 if the input was zero or 1 if the input was non-zero\"\n",
    "computer = IntcodeInterpreter(ins)\n",
    "computer.store_int_stdin(param)\n",
    "computer.interpret_program()\n",
    "result = computer.pseudo_stdout\n",
    "print(f\"result out={result}\")\n",
    "result = result[0]\n",
    "expected = 1\n",
    "aoc.assert_msg(f\"input={ins} with param={param} expects output={expected}, got {result}\", expected == result)"
   ]
  },
  {
   "cell_type": "code",
   "execution_count": null,
   "metadata": {},
   "outputs": [],
   "source": [
    "# \"larger\" example \"3\", input < 8\n",
    "ins = [3,21,1008,21,8,20,1005,20,22,107,8,21,20,1006,20,31,\n",
    "  1106,0,36,98,0,0,1002,21,125,20,4,20,1105,1,46,104,\n",
    "  999,1105,1,46,1101,1000,1,20,4,20,1105,1,46,98,99]\n",
    "# output 999 if the input value is below 8,\n",
    "# output 1000 if the input value is equal to 8,\n",
    "# or output 1001 if the input value is greater than 8.\n",
    "param = 7 #\n",
    "computer = IntcodeInterpreter(ins)\n",
    "computer.store_int_stdin(param)\n",
    "computer.interpret_program()\n",
    "result = computer.pseudo_stdout\n",
    "print(f\"result out={result}\")\n",
    "result = result[0]\n",
    "expected = 999\n",
    "aoc.assert_msg(f\"input={ins} with param={param} expects output={expected}, got {result}\", expected == result)"
   ]
  },
  {
   "cell_type": "code",
   "execution_count": null,
   "metadata": {},
   "outputs": [],
   "source": [
    "# \"larger\" example \"3\", input == 8\n",
    "ins = [3,21,1008,21,8,20,1005,20,22,107,8,21,20,1006,20,31,\n",
    "  1106,0,36,98,0,0,1002,21,125,20,4,20,1105,1,46,104,\n",
    "  999,1105,1,46,1101,1000,1,20,4,20,1105,1,46,98,99]\n",
    "# output 999 if the input value is below 8,\n",
    "# output 1000 if the input value is equal to 8,\n",
    "# or output 1001 if the input value is greater than 8.\n",
    "param = 8 #\n",
    "computer = IntcodeInterpreter(ins)\n",
    "computer.store_int_stdin(param)\n",
    "computer.interpret_program()\n",
    "result = computer.pseudo_stdout\n",
    "print(f\"result out={result}\")\n",
    "result = result[0]\n",
    "expected = 1000\n",
    "aoc.assert_msg(f\"input={ins} with param={param} expects output={expected}, got {result}\", expected == result)"
   ]
  },
  {
   "cell_type": "code",
   "execution_count": null,
   "metadata": {},
   "outputs": [],
   "source": [
    "# \"larger\" example \"3\", input > 8\n",
    "ins = [3,21,1008,21,8,20,1005,20,22,107,8,21,20,1006,20,31,\n",
    "  1106,0,36,98,0,0,1002,21,125,20,4,20,1105,1,46,104,\n",
    "  999,1105,1,46,1101,1000,1,20,4,20,1105,1,46,98,99]\n",
    "# output 999 if the input value is below 8,\n",
    "# output 1000 if the input value is equal to 8,\n",
    "# or output 1001 if the input value is greater than 8.\n",
    "param = 9 #\n",
    "computer = IntcodeInterpreter(ins)\n",
    "computer.store_int_stdin(param)\n",
    "computer.interpret_program()\n",
    "result = computer.pseudo_stdout\n",
    "print(f\"result out={result}\")\n",
    "result = result[0]\n",
    "expected = 1001\n",
    "aoc.assert_msg(f\"input={ins} with param={param} expects output={expected}, got {result}\", expected == result)"
   ]
  },
  {
   "cell_type": "code",
   "execution_count": null,
   "metadata": {},
   "outputs": [],
   "source": []
  },
  {
   "cell_type": "code",
   "execution_count": null,
   "metadata": {},
   "outputs": [],
   "source": [
    "### personal input solution\n",
    "data = aoc.read_file_firstline_to_str('day05.in')\n",
    "data = list(map(int, data.split(',')))\n",
    "print(f\"data-type={type(data)} data={data}\")\n",
    "\n",
    "computer = IntcodeInterpreter(data)\n",
    "computer.store_int_stdin(5)\n",
    "computer.interpret_program()\n",
    "#result = computer.mem\n",
    "result = computer.pseudo_stdout\n",
    "print(f\"result={result}\")"
   ]
  }
 ],
 "metadata": {
  "kernelspec": {
   "display_name": "Python 3",
   "language": "python",
   "name": "python3"
  },
  "language_info": {
   "codemirror_mode": {
    "name": "ipython",
    "version": 3
   },
   "file_extension": ".py",
   "mimetype": "text/x-python",
   "name": "python",
   "nbconvert_exporter": "python",
   "pygments_lexer": "ipython3",
   "version": "3.7.5"
  }
 },
 "nbformat": 4,
 "nbformat_minor": 4
}
