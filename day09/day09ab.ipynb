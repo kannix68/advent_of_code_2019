{
 "cells": [
  {
   "cell_type": "code",
   "execution_count": null,
   "metadata": {},
   "outputs": [],
   "source": [
    "##\n",
    "# Advent of code 2019, AoC day 9 puzzle 1 and pzzle 2\n",
    "# This solution (python3.7 jupyter notebook) by kannix68, @ 2020-01-04.\n",
    "\n",
    "import sys\n",
    "sys.path.insert(0, '..')  # allow import from parent dir\n",
    "import lib.aochelper as aoc"
   ]
  },
  {
   "cell_type": "code",
   "execution_count": null,
   "metadata": {},
   "outputs": [],
   "source": [
    "import logging\n",
    "logging.basicConfig(stream=sys.stdout, level=logging.INFO)\n",
    "log = logging.getLogger(__name__)"
   ]
  },
  {
   "cell_type": "code",
   "execution_count": null,
   "metadata": {},
   "outputs": [],
   "source": [
    "## PROBLEM DOMAIN code\n",
    "import itertools\n",
    "from lib.intcode_interpreter import *"
   ]
  },
  {
   "cell_type": "code",
   "execution_count": null,
   "metadata": {},
   "outputs": [],
   "source": [
    "def solve(program: list, base_combi: list) -> int:\n",
    "  return 0"
   ]
  },
  {
   "cell_type": "code",
   "execution_count": null,
   "metadata": {},
   "outputs": [],
   "source": [
    "## MAIN"
   ]
  },
  {
   "cell_type": "code",
   "execution_count": null,
   "metadata": {},
   "outputs": [],
   "source": [
    "### tests\n",
    "log.setLevel(logging.DEBUG)"
   ]
  },
  {
   "cell_type": "code",
   "execution_count": null,
   "metadata": {},
   "outputs": [],
   "source": [
    "# example \"1\"\n",
    "ins = [109,1,204,-1,1001,100,1,100,1008,100,16,101,1006,101,0,99]\n",
    "\n",
    "computer = IntcodeInterpreter(ins, mem_growable=True)\n",
    "print(f\"mem-type={type(computer.mem)}, mem-len={len(computer.mem)}\")\n",
    "computer.interpret_program()\n",
    "result = computer.pseudo_stdout\n",
    "print(f\"post mem-len={len(computer.mem)}\")\n",
    "print(f\"result={result}\")\n",
    "\n",
    "expected = ins\n",
    "aoc.assert_msg(f\"input={aoc.cl(ins)} expects output={aoc.cl(expected)}, got {aoc.cl(result)}\", expected == result)"
   ]
  },
  {
   "cell_type": "code",
   "execution_count": null,
   "metadata": {},
   "outputs": [],
   "source": [
    "# example \"2\"\n",
    "ins = [1102,34915192,34915192,7,4,7,99,0]\n",
    "\n",
    "computer = IntcodeInterpreter(ins, mem_growable=True)\n",
    "print(f\"mem-type={type(computer.mem)}, mem-len={len(computer.mem)}\")\n",
    "computer.interpret_program()\n",
    "result = computer.pseudo_stdout\n",
    "print(f\"post mem-len={len(computer.mem)}\")\n",
    "print(f\"result={result}\")\n",
    "\n",
    "expected = 16\n",
    "aoc.assert_msg(f\"input={aoc.cl(ins)} expects output digits={expected}, got {aoc.cl(result)}\", expected == len(str(result[-1])))"
   ]
  },
  {
   "cell_type": "code",
   "execution_count": null,
   "metadata": {},
   "outputs": [],
   "source": [
    "# example \"3\"\n",
    "ins = [104,1125899906842624,99]\n",
    "\n",
    "computer = IntcodeInterpreter(ins, mem_growable=True)\n",
    "print(f\"mem-type={type(computer.mem)}, mem-len={len(computer.mem)}\")\n",
    "computer.interpret_program()\n",
    "result = computer.pseudo_stdout[-1]\n",
    "print(f\"post mem-len={len(computer.mem)}\")\n",
    "print(f\"result={result}\")\n",
    "\n",
    "expected = 1125899906842624\n",
    "aoc.assert_msg(f\"input={aoc.cl(ins)} expects output={expected}, got {result}\", expected == result)"
   ]
  },
  {
   "cell_type": "code",
   "execution_count": null,
   "metadata": {},
   "outputs": [],
   "source": [
    "### personal input solution, puzzle 1\n",
    "data = aoc.read_file_firstline_to_str('day09.in')\n",
    "data = list(map(int, data.split(',')))\n",
    "log.info(f\"data-type={type(data)} data=\\n{aoc.cl(data)}\")\n",
    "\n",
    "computer = IntcodeInterpreter(data, mem_growable=True)\n",
    "print(f\"mem-type={type(computer.mem)}, mem-len={len(computer.mem)}\")\n",
    "computer.store_int_stdin(1)\n",
    "computer.interpret_program()\n",
    "result = computer.pseudo_stdout\n",
    "print(f\"post mem-len={len(computer.mem)}\")\n",
    "print(f\"result={result}\")"
   ]
  },
  {
   "cell_type": "code",
   "execution_count": null,
   "metadata": {},
   "outputs": [],
   "source": [
    "### personal input solution, puzzle 2\n",
    "#data = aoc.read_file_firstline_to_str('day09.in')\n",
    "#data = list(map(int, data.split(',')))\n",
    "#log.info(f\"data-type={type(data)} data=\\n{aoc.cl(data)}\")\n",
    "\n",
    "computer = IntcodeInterpreter(data, mem_growable=True)\n",
    "print(f\"mem-type={type(computer.mem)}, mem-len={len(computer.mem)}\")\n",
    "computer.store_int_stdin(2)\n",
    "computer.interpret_program()\n",
    "result = computer.pseudo_stdout\n",
    "print(f\"post mem-len={len(computer.mem)}, incruction-count={computer.ctr}\")\n",
    "print(f\"result={result}\")"
   ]
  }
 ],
 "metadata": {
  "kernelspec": {
   "display_name": "Python 3",
   "language": "python",
   "name": "python3"
  },
  "language_info": {
   "codemirror_mode": {
    "name": "ipython",
    "version": 3
   },
   "file_extension": ".py",
   "mimetype": "text/x-python",
   "name": "python",
   "nbconvert_exporter": "python",
   "pygments_lexer": "ipython3",
   "version": "3.7.5"
  }
 },
 "nbformat": 4,
 "nbformat_minor": 4
}
