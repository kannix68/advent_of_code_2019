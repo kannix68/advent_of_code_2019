{
 "cells": [
  {
   "cell_type": "code",
   "execution_count": 1,
   "metadata": {},
   "outputs": [],
   "source": [
    "##\n",
    "# Advent of code 2019, AoC day 7 puzzle 2\n",
    "# This solution (python3.7 jupyter notebook) by kannix68, @ 2020-01-03.\n",
    "\n",
    "import sys\n",
    "sys.path.insert(0, '..')  # allow import from parent dir\n",
    "import lib.aochelper as aoc"
   ]
  },
  {
   "cell_type": "code",
   "execution_count": 2,
   "metadata": {},
   "outputs": [],
   "source": [
    "import logging\n",
    "logging.basicConfig(stream=sys.stdout, level=logging.INFO)\n",
    "log = logging.getLogger(__name__)\n",
    "#log.setLevel(logging.DEBUG)\n",
    "log.setLevel(logging.INFO)"
   ]
  },
  {
   "cell_type": "code",
   "execution_count": 3,
   "metadata": {},
   "outputs": [],
   "source": [
    "def cl(l: list) -> str:\n",
    "  \"\"\"Return compact list representation as str.\"\"\"\n",
    "  return f\"[{','.join(map(str,l))}]\""
   ]
  },
  {
   "cell_type": "code",
   "execution_count": 4,
   "metadata": {},
   "outputs": [],
   "source": [
    "## PROBLEM DOMAIN code\n",
    "import itertools\n",
    "from lib.intcode_interpreter import *"
   ]
  },
  {
   "cell_type": "code",
   "execution_count": 5,
   "metadata": {},
   "outputs": [],
   "source": [
    "def chain_amps(program: list, combi: list):\n",
    "  amps = []\n",
    "  for i in range(5):\n",
    "    amp = IntcodeInterpreter(program)\n",
    "    amp.store_int_stdin(combi[i])\n",
    "    amps.append(amp)\n",
    "  lastval = 0\n",
    "  res = [lastval]\n",
    "  for i in range(5):\n",
    "    amp = amps[i]\n",
    "    amp.store_int_stdin(lastval)\n",
    "    amp.interpret_program()\n",
    "    lastval = amp.pseudo_stdout[-1]\n",
    "    res.append(lastval)\n",
    "  return res[-1]"
   ]
  },
  {
   "cell_type": "code",
   "execution_count": 6,
   "metadata": {},
   "outputs": [],
   "source": [
    "## MAIN"
   ]
  },
  {
   "cell_type": "code",
   "execution_count": 7,
   "metadata": {},
   "outputs": [],
   "source": [
    "### tests"
   ]
  },
  {
   "cell_type": "code",
   "execution_count": 8,
   "metadata": {},
   "outputs": [
    {
     "name": "stdout",
     "output_type": "stream",
     "text": [
      "result out=43210\n",
      "assert-OK: input=[3,15,3,16,1002,16,10,16,1,16,15,15,4,15,99,0,0] with param=0 expects output=43210, got 43210\n"
     ]
    }
   ],
   "source": [
    "# example \"0\"\n",
    "ins = []\n",
    "combi = [3,1,2,4,0]\n",
    "\n",
    "# example \"1\"\n",
    "ins = [3,15,3,16,1002,16,10,16,1,16,15,15,4,15,99,0,0]\n",
    "combi = [4,3,2,1,0]\n",
    "\n",
    "param = 0 # \"output 0 if the input was zero or 1 if the input was non-zero\"\n",
    "result = chain_amps(ins, combi)\n",
    "print(f\"result out={result}\")\n",
    "expected = 43210\n",
    "aoc.assert_msg(f\"input={cl(ins)} with param={param} expects output={expected}, got {result}\", expected == result)"
   ]
  },
  {
   "cell_type": "code",
   "execution_count": 9,
   "metadata": {},
   "outputs": [
    {
     "name": "stdout",
     "output_type": "stream",
     "text": [
      "result out=54321\n",
      "assert-OK: input=[3,23,3,24,1002,24,10,24,1002,23,-1,23,101,5,23,23,1,24,23,23,4,23,99,0,0] with param=0 expects output=54321, got 54321\n"
     ]
    }
   ],
   "source": [
    "# example \"2\"\n",
    "ins = [3,23,3,24,1002,24,10,24,1002,23,-1,23,\n",
    "  101,5,23,23,1,24,23,23,4,23,99,0,0]\n",
    "combi = [0,1,2,3,4]\n",
    "expected = 54321\n",
    "\n",
    "param = 0 # \"output 0 if the input was zero or 1 if the input was non-zero\"\n",
    "result = chain_amps(ins, combi)\n",
    "print(f\"result out={result}\")\n",
    "aoc.assert_msg(f\"input={cl(ins)} with param={param} expects output={expected}, got {result}\", expected == result)"
   ]
  },
  {
   "cell_type": "code",
   "execution_count": 10,
   "metadata": {},
   "outputs": [
    {
     "name": "stdout",
     "output_type": "stream",
     "text": [
      "result out=65210\n",
      "assert-OK: input=[3,31,3,32,1002,32,10,32,1001,31,-2,31,1007,31,0,33,1002,33,7,33,1,33,31,31,1,32,31,31,4,31,99,0,0,0] with param=0 expects output=65210, got 65210\n"
     ]
    }
   ],
   "source": [
    "# example \"2\"\n",
    "ins = [3,31,3,32,1002,32,10,32,1001,31,-2,31,1007,31,0,33,\n",
    "  1002,33,7,33,1,33,31,31,1,32,31,31,4,31,99,0,0,0]\n",
    "combi = [1,0,4,3,2]\n",
    "expected = 65210\n",
    "\n",
    "param = 0 # \"output 0 if the input was zero or 1 if the input was non-zero\"\n",
    "result = chain_amps(ins, combi)\n",
    "print(f\"result out={result}\")\n",
    "aoc.assert_msg(f\"input={cl(ins)} with param={param} expects output={expected}, got {result}\", expected == result)"
   ]
  },
  {
   "cell_type": "code",
   "execution_count": 11,
   "metadata": {},
   "outputs": [
    {
     "name": "stdout",
     "output_type": "stream",
     "text": [
      "data-type=<class 'list'> data=\n",
      "[3,8,1001,8,10,8,105,1,0,0,21,34,51,76,101,114,195,276,357,438,99999,3,9,1001,9,3,9,1002,9,3,9,4,9,99,3,9,101,4,9,9,102,4,9,9,1001,9,5,9,4,9,99,3,9,1002,9,4,9,101,3,9,9,102,5,9,9,1001,9,2,9,1002,9,2,9,4,9,99,3,9,1001,9,3,9,102,2,9,9,101,4,9,9,102,3,9,9,101,2,9,9,4,9,99,3,9,102,2,9,9,101,4,9,9,4,9,99,3,9,102,2,9,9,4,9,3,9,102,2,9,9,4,9,3,9,1001,9,1,9,4,9,3,9,1001,9,2,9,4,9,3,9,101,2,9,9,4,9,3,9,1002,9,2,9,4,9,3,9,1002,9,2,9,4,9,3,9,1001,9,2,9,4,9,3,9,1002,9,2,9,4,9,3,9,101,2,9,9,4,9,99,3,9,101,2,9,9,4,9,3,9,1002,9,2,9,4,9,3,9,1001,9,1,9,4,9,3,9,1001,9,1,9,4,9,3,9,1002,9,2,9,4,9,3,9,102,2,9,9,4,9,3,9,101,1,9,9,4,9,3,9,1002,9,2,9,4,9,3,9,1001,9,2,9,4,9,3,9,1001,9,2,9,4,9,99,3,9,1001,9,2,9,4,9,3,9,102,2,9,9,4,9,3,9,101,2,9,9,4,9,3,9,102,2,9,9,4,9,3,9,1001,9,1,9,4,9,3,9,102,2,9,9,4,9,3,9,1001,9,1,9,4,9,3,9,102,2,9,9,4,9,3,9,1002,9,2,9,4,9,3,9,101,2,9,9,4,9,99,3,9,102,2,9,9,4,9,3,9,102,2,9,9,4,9,3,9,1002,9,2,9,4,9,3,9,1001,9,1,9,4,9,3,9,1002,9,2,9,4,9,3,9,102,2,9,9,4,9,3,9,1001,9,2,9,4,9,3,9,101,1,9,9,4,9,3,9,102,2,9,9,4,9,3,9,102,2,9,9,4,9,99,3,9,1002,9,2,9,4,9,3,9,101,2,9,9,4,9,3,9,101,1,9,9,4,9,3,9,101,2,9,9,4,9,3,9,101,1,9,9,4,9,3,9,1001,9,2,9,4,9,3,9,1002,9,2,9,4,9,3,9,1001,9,1,9,4,9,3,9,1001,9,2,9,4,9,3,9,1002,9,2,9,4,9,99]\n",
      "result=36834\n",
      "len-combis=120\n",
      "optimal val=38834 found for combi=(1, 3, 0, 4, 2) @iter=37 of 120\n"
     ]
    }
   ],
   "source": [
    "### personal input solution\n",
    "data = aoc.read_file_firstline_to_str('day07.in')\n",
    "data = list(map(int, data.split(',')))\n",
    "print(f\"data-type={type(data)} data=\\n{cl(data)}\")\n",
    "\n",
    "# just check first combination manually:\n",
    "base_combi = [0,1,2,3,4]\n",
    "result = chain_amps(data, combi)\n",
    "print(f\"result={result}\")\n",
    "\n",
    "combis = list(itertools.permutations(base_combi, len(base_combi)))\n",
    "print(f\"len-combis={len(combis)}\")\n",
    "\n",
    "idx = 0\n",
    "max_idx = -1\n",
    "max_val = -1\n",
    "for combi in combis:\n",
    "  val = chain_amps(data, combi)\n",
    "  if val > max_val:\n",
    "    max_idx = idx\n",
    "    max_val = val\n",
    "  idx += 1\n",
    "print(f\"optimal val={max_val} found for combi={combis[max_idx]} @iter={max_idx} of {len(combis)}\")"
   ]
  }
 ],
 "metadata": {
  "kernelspec": {
   "display_name": "Python 3",
   "language": "python",
   "name": "python3"
  },
  "language_info": {
   "codemirror_mode": {
    "name": "ipython",
    "version": 3
   },
   "file_extension": ".py",
   "mimetype": "text/x-python",
   "name": "python",
   "nbconvert_exporter": "python",
   "pygments_lexer": "ipython3",
   "version": "3.7.5"
  }
 },
 "nbformat": 4,
 "nbformat_minor": 4
}
