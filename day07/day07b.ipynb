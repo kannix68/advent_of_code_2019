{
 "cells": [
  {
   "cell_type": "code",
   "execution_count": null,
   "metadata": {},
   "outputs": [],
   "source": [
    "##\n",
    "# Advent of code 2019, AoC day 7 puzzle 1\n",
    "# This solution (python3.7 jupyter notebook) by kannix68, @ 2020-01-03.\n",
    "\n",
    "import sys\n",
    "sys.path.insert(0, '..')  # allow import from parent dir\n",
    "import lib.aochelper as aoc"
   ]
  },
  {
   "cell_type": "code",
   "execution_count": null,
   "metadata": {},
   "outputs": [],
   "source": [
    "import logging\n",
    "logging.basicConfig(stream=sys.stdout, level=logging.INFO)\n",
    "log = logging.getLogger(__name__)"
   ]
  },
  {
   "cell_type": "code",
   "execution_count": null,
   "metadata": {},
   "outputs": [],
   "source": [
    "def cl(l: list) -> str:\n",
    "  \"\"\"Return compact list representation as str.\"\"\"\n",
    "  return f\"[{','.join(map(str,l))}]\""
   ]
  },
  {
   "cell_type": "code",
   "execution_count": null,
   "metadata": {},
   "outputs": [],
   "source": [
    "## PROBLEM DOMAIN code\n",
    "import itertools\n",
    "from lib.intcode_interpreter import *"
   ]
  },
  {
   "cell_type": "code",
   "execution_count": null,
   "metadata": {},
   "outputs": [],
   "source": [
    "def chain_amps_feedback(program: list, combi: list, max_loops=1e9):\n",
    "  amps = []\n",
    "  for i in range(5):\n",
    "    amp = IntcodeInterpreter(program)\n",
    "    amp.store_int_stdin(combi[i])\n",
    "    amps.append(amp)\n",
    "  lastval = 0\n",
    "  loop = 1\n",
    "  result = []\n",
    "  while(loop <= max_loops and amps[-1].state != IntcodeInterpreter.STATE_HALTED):\n",
    "    log.debug(f\"LOOP {loop}\")\n",
    "    res = [lastval]\n",
    "    for i in range(5):\n",
    "      amp = amps[i]\n",
    "      amp.store_int_stdin(lastval)\n",
    "      amp.interpret_program(pause_on_output = True)\n",
    "      if amp.state == amp.STATE_PAUSED:\n",
    "        assert 1 == len(amp.pseudo_stdout), f\"only one output expected for amp {i}\"\n",
    "        lastval = amp.fetch_int_stdout()\n",
    "        res.append(lastval)\n",
    "        log.debug(f\"  amp {i} OUT => {lastval}\")\n",
    "      elif amp.state == IntcodeInterpreter.STATE_HALTED:\n",
    "        log.debug(f\"  amp {i} HALTED\")\n",
    "    result.append(res)\n",
    "    loop += 1\n",
    "  #print(f\"all results={result}\")\n",
    "  log.debug(f\"chain_amps_feedback num-loops={loop}\")\n",
    "  return res[-1]"
   ]
  },
  {
   "cell_type": "code",
   "execution_count": null,
   "metadata": {},
   "outputs": [],
   "source": [
    "def solve(program: list, base_combi: list) -> list:\n",
    "  combis = list(itertools.permutations(base_combi, len(base_combi)))\n",
    "  log.info(f\"len-combis={len(combis)}\")\n",
    "\n",
    "  idx = 0\n",
    "  max_idx = -1\n",
    "  max_val = -1\n",
    "  for combi in combis:\n",
    "    val = chain_amps_feedback(program, combi)\n",
    "    if val > max_val:\n",
    "      max_idx = idx\n",
    "      max_val = val\n",
    "    idx += 1\n",
    "  log.info(f\"optimal val={max_val} found for combi={combis[max_idx]} @iter={max_idx+1} of {len(combis)}\")\n",
    "  return [combis[max_idx], max_val]"
   ]
  },
  {
   "cell_type": "code",
   "execution_count": null,
   "metadata": {},
   "outputs": [],
   "source": [
    "## MAIN"
   ]
  },
  {
   "cell_type": "code",
   "execution_count": null,
   "metadata": {},
   "outputs": [],
   "source": [
    "### tests\n",
    "log.setLevel(logging.DEBUG)"
   ]
  },
  {
   "cell_type": "code",
   "execution_count": null,
   "metadata": {},
   "outputs": [],
   "source": [
    "# example \"1\" of puzzle 1, recalculated\n",
    "ins = [3,15,3,16,1002,16,10,16,1,16,15,15,4,15,99,0,0]\n",
    "combi = [4,3,2,1,0]\n",
    "\n",
    "param = 0 # \"output 0 if the input was zero or 1 if the input was non-zero\"\n",
    "result = chain_amps_feedback(ins, combi, max_loops=2)\n",
    "print(f\"result out={result}\")\n",
    "expected = 43210\n",
    "aoc.assert_msg(f\"input={cl(ins)} with param={param} expects output={expected}, got {result}\", expected == result)"
   ]
  },
  {
   "cell_type": "code",
   "execution_count": null,
   "metadata": {},
   "outputs": [],
   "source": [
    "# example \"1\"\n",
    "log.setLevel(logging.INFO)\n",
    "ins = [3,26,1001,26,-4,26,3,27,1002,27,2,27,1,27,26,\n",
    "  27,4,27,1001,28,-1,28,1005,28,6,99,0,0,5]\n",
    "combi = [9,8,7,6,5]\n",
    "\n",
    "param = 0 # \"output 0 if the input was zero or 1 if the input was non-zero\"\n",
    "result = chain_amps_feedback(ins, combi)\n",
    "print(f\"result out={result}\")\n",
    "expected = 139629729\n",
    "aoc.assert_msg(f\"input={cl(ins)} with param={param} expects output={expected}, got {result}\", expected == result)"
   ]
  },
  {
   "cell_type": "code",
   "execution_count": null,
   "metadata": {},
   "outputs": [],
   "source": [
    "result = solve(ins, [5,6,7,8,9])\n",
    "print(f\"result out={result}\")"
   ]
  },
  {
   "cell_type": "code",
   "execution_count": null,
   "metadata": {},
   "outputs": [],
   "source": [
    "# example \"2\"\n",
    "ins = [3,52,1001,52,-5,52,3,53,1,52,56,54,1007,54,5,55,1005,55,26,1001,54,\n",
    "-5,54,1105,1,12,1,53,54,53,1008,54,0,55,1001,55,1,55,2,53,55,53,4,\n",
    "53,1001,56,-1,56,1005,56,6,99,0,0,0,0,10]\n",
    "combi = [9,7,8,5,6]\n",
    "\n",
    "param = 0 # \"output 0 if the input was zero or 1 if the input was non-zero\"\n",
    "result = chain_amps_feedback(ins, combi)\n",
    "print(f\"result out={result}\")\n",
    "expected = 18216\n",
    "aoc.assert_msg(f\"input={cl(ins)} with param={param} expects output={expected}, got {result}\", expected == result)"
   ]
  },
  {
   "cell_type": "code",
   "execution_count": null,
   "metadata": {},
   "outputs": [],
   "source": [
    "result = solve(ins, [5,6,7,8,9])\n",
    "print(f\"result out={result}\")"
   ]
  },
  {
   "cell_type": "code",
   "execution_count": null,
   "metadata": {},
   "outputs": [],
   "source": [
    "### personal input solution\n",
    "data = aoc.read_file_firstline_to_str('day07.in')\n",
    "data = list(map(int, data.split(',')))\n",
    "log.info(f\"data-type={type(data)} data=\\n{cl(data)}\")\n",
    "\n",
    "result = solve(data, [5,6,7,8,9])\n",
    "print(f\"result out={result}\")"
   ]
  }
 ],
 "metadata": {
  "kernelspec": {
   "display_name": "Python 3",
   "language": "python",
   "name": "python3"
  },
  "language_info": {
   "codemirror_mode": {
    "name": "ipython",
    "version": 3
   },
   "file_extension": ".py",
   "mimetype": "text/x-python",
   "name": "python",
   "nbconvert_exporter": "python",
   "pygments_lexer": "ipython3",
   "version": "3.7.5"
  }
 },
 "nbformat": 4,
 "nbformat_minor": 4
}
