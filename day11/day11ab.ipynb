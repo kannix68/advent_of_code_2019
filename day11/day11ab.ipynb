{
 "cells": [
  {
   "cell_type": "code",
   "execution_count": null,
   "metadata": {},
   "outputs": [],
   "source": [
    "##\n",
    "# Advent of code 2019, AoC day 11 puzzle 1 and pzzle 2\n",
    "# This solution (python3.7 jupyter notebook) by kannix68, @ 2020-01-04.\n",
    "\n",
    "import sys\n",
    "sys.path.insert(0, '..')  # allow import from parent dir\n",
    "import lib.aochelper as aoc"
   ]
  },
  {
   "cell_type": "code",
   "execution_count": null,
   "metadata": {},
   "outputs": [],
   "source": [
    "import logging\n",
    "logging.basicConfig(stream=sys.stdout, level=logging.INFO)\n",
    "log = logging.getLogger(__name__)"
   ]
  },
  {
   "cell_type": "code",
   "execution_count": null,
   "metadata": {},
   "outputs": [],
   "source": [
    "## PROBLEM DOMAIN code\n",
    "import itertools\n",
    "from lib.intcode_interpreter import *"
   ]
  },
  {
   "cell_type": "code",
   "execution_count": null,
   "metadata": {},
   "outputs": [],
   "source": [
    "# 0 is turn left, 1 is turn right\n",
    "rotations = { 0: {\"up\":\"left\", \"left\":\"down\", \"down\":\"right\", \"right\":\"up\"},\n",
    " 1: {\"up\":\"right\", \"right\":\"down\", \"down\":\"left\", \"left\":\"up\"} }"
   ]
  },
  {
   "cell_type": "code",
   "execution_count": null,
   "metadata": {},
   "outputs": [],
   "source": [
    "def get_coord_color():\n",
    "  log.debug(f\"get_coord_color current-corrd={cur_coord} val={seen_coords[cur_coord]}\")\n",
    "  return seen_coords[cur_coord]"
   ]
  },
  {
   "cell_type": "code",
   "execution_count": null,
   "metadata": {},
   "outputs": [],
   "source": [
    "def paint_coord_color(i):\n",
    "  global seen_coords\n",
    "  global painted_coords\n",
    "  seen_coords[cur_coord] = i\n",
    "  painted_coords[cur_coord] = i"
   ]
  },
  {
   "cell_type": "code",
   "execution_count": null,
   "metadata": {},
   "outputs": [],
   "source": [
    "def turn_dir_and_move1(i):\n",
    "  global cur_dir\n",
    "  global cur_coord\n",
    "  new_dir = rotations[i][cur_dir]\n",
    "  cur_dir = new_dir\n",
    "  log.debug(f\"turn_dir_and_move1 new dir={cur_dir}\")\n",
    "  if cur_dir == \"up\":\n",
    "    cur_coord = tuple([cur_coord[0],cur_coord[1]+1])\n",
    "  elif cur_dir == \"down\":\n",
    "    cur_coord = tuple([cur_coord[0],cur_coord[1]-1])\n",
    "  elif cur_dir == \"right\":\n",
    "    cur_coord = tuple([cur_coord[0]+1,cur_coord[1]])\n",
    "  elif cur_dir == \"left\":\n",
    "    cur_coord = tuple([cur_coord[0]-1,cur_coord[1]])\n",
    "  log.debug(f\"  turn_dir_and_move1 new coord={cur_coord}\")\n",
    "  if not cur_coord in seen_coords:\n",
    "    log.debug(f\"    turn_dir_and_move1 new first-visited coord={cur_coord}\")\n",
    "    seen_coords[cur_coord] = 0"
   ]
  },
  {
   "cell_type": "code",
   "execution_count": null,
   "metadata": {},
   "outputs": [],
   "source": [
    "def init_simulator():\n",
    "  global seen_coords\n",
    "  global painted_coords\n",
    "  global cur_coord\n",
    "  global cur_dir\n",
    "  seen_coords = {}\n",
    "  painted_coords = {}\n",
    "  cur_coord = tuple([0,0])\n",
    "  cur_dir = \"up\"\n",
    "  seen_coords[cur_coord] = 0\n",
    "  computer = IntcodeSimulator([], mem_growable=False)\n",
    "  return computer"
   ]
  },
  {
   "cell_type": "code",
   "execution_count": null,
   "metadata": {},
   "outputs": [],
   "source": [
    "def init_interpreter(program):\n",
    "  global seen_coords\n",
    "  global painted_coords\n",
    "  global cur_coord\n",
    "  global cur_dir\n",
    "  seen_coords = {}\n",
    "  painted_coords = {}\n",
    "  cur_coord = tuple([0,0])\n",
    "  cur_dir = \"up\"\n",
    "  seen_coords[cur_coord] = 0   # initial state \"unpainted black\"\n",
    "  computer = IntcodeInterpreter(program, mem_growable=True)\n",
    "  return computer"
   ]
  },
  {
   "cell_type": "code",
   "execution_count": null,
   "metadata": {},
   "outputs": [],
   "source": [
    "def simulate_cell_commands(computer, l):\n",
    "  computer.next_pause_for_input()\n",
    "  computer.interpret_program(pause_on_output=True, pause_on_input=True)\n",
    "  computer.store_int_stdin(get_coord_color())\n",
    "  computer.next_consume_input()\n",
    "\n",
    "  computer.next_output(l[0])\n",
    "  computer.interpret_program(pause_on_output=True, pause_on_input=True)\n",
    "  paint_coord_color(computer.fetch_int_stdout())\n",
    "\n",
    "  computer.next_output(l[1])\n",
    "  computer.interpret_program(pause_on_output=True, pause_on_input=True)\n",
    "  turn_dir_and_move1(computer.fetch_int_stdout())\n",
    "  log.info(f\"seen-coords={seen_coords}\")"
   ]
  },
  {
   "cell_type": "code",
   "execution_count": null,
   "metadata": {},
   "outputs": [],
   "source": [
    "def solve(program: list, base_combi: list) -> int:\n",
    "  return 0"
   ]
  },
  {
   "cell_type": "code",
   "execution_count": null,
   "metadata": {},
   "outputs": [],
   "source": [
    "## MAIN"
   ]
  },
  {
   "cell_type": "code",
   "execution_count": null,
   "metadata": {},
   "outputs": [],
   "source": [
    "### tests\n",
    "log.setLevel(logging.DEBUG)"
   ]
  },
  {
   "cell_type": "code",
   "execution_count": null,
   "metadata": {},
   "outputs": [],
   "source": [
    "# example \"1\"\n",
    "computer = init_simulator()\n",
    "computer.next_pause_for_input()\n",
    "computer.interpret_program(pause_on_output=True, pause_on_input=True)\n",
    "assert computer.waits_for_input(), \"should wait for intput\"\n",
    "computer.store_int_stdin(get_coord_color())\n",
    "log.debug(f\"computer.pseudo_stdin={computer.pseudo_stdin}\")\n",
    "\n",
    "computer.next_consume_input()\n",
    "computer.next_output(1)\n",
    "computer.interpret_program(pause_on_output=True, pause_on_input=True)\n",
    "assert computer.has_output(), \"should have output\"\n",
    "v = computer.fetch_int_stdout()\n",
    "assert 1 == v, \"output should be 1\"\n",
    "paint_coord_color(v)\n",
    "\n",
    "computer.next_output(0)\n",
    "computer.interpret_program(pause_on_output=True, pause_on_input=True)\n",
    "assert computer.has_output(), \"should have_output\"\n",
    "v = computer.fetch_int_stdout()\n",
    "assert 0 == v, \"output should be 0\"\n",
    "turn_dir_and_move1(v)\n",
    "log.info(seen_coords)\n",
    "\n",
    "\n",
    "computer.next_pause_for_input()\n",
    "computer.interpret_program(pause_on_output=True, pause_on_input=True)\n",
    "computer.store_int_stdin(get_coord_color())\n",
    "\n",
    "computer.next_consume_input()\n",
    "computer.next_output(0)\n",
    "computer.interpret_program(pause_on_output=True, pause_on_input=True)\n",
    "paint_coord_color(computer.fetch_int_stdout())\n",
    "\n",
    "computer.next_output(0)\n",
    "computer.interpret_program(pause_on_output=True, pause_on_input=True)\n",
    "turn_dir_and_move1(computer.fetch_int_stdout())\n",
    "log.info(seen_coords)\n",
    "\n",
    "\n",
    "simulate_cell_commands(computer, [1,0])\n",
    "simulate_cell_commands(computer, [1,0])\n",
    "\n",
    "simulate_cell_commands(computer, [0,1])\n",
    "simulate_cell_commands(computer, [1,0])\n",
    "simulate_cell_commands(computer, [1,0])\n",
    "\n",
    "log.info(f\"seen={len(seen_coords.keys())} painted={len(painted_coords.keys())}\")"
   ]
  },
  {
   "cell_type": "code",
   "execution_count": null,
   "metadata": {},
   "outputs": [],
   "source": [
    "### personal input solution, puzzle 1\n",
    "log.setLevel(logging.INFO)\n",
    "data = aoc.read_file_firstline_to_str('day11.in')\n",
    "data = list(map(int, data.split(',')))\n",
    "log.info(f\"data-type={type(data)} data=\\n{aoc.cl(data)}\")\n",
    "\n",
    "computer = init_interpreter(data)\n",
    "max_iter = 1e7\n",
    "i = 0\n",
    "sub_cmd = 0\n",
    "while (computer.state != IntcodeInterpreter.STATE_HALTED) and i < max_iter:\n",
    "  i += 1\n",
    "  computer.interpret_program(pause_on_output=True, pause_on_input=True)\n",
    "  if computer.waits_for_input():\n",
    "    computer.store_int_stdin(get_coord_color())\n",
    "  elif computer.has_output():\n",
    "    if sub_cmd == 0:\n",
    "      paint_coord_color(computer.fetch_int_stdout())\n",
    "      sub_cmd = 1\n",
    "    elif sub_cmd == 1:\n",
    "      turn_dir_and_move1(computer.fetch_int_stdout())\n",
    "      sub_cmd = 0\n",
    "\n",
    "result = painted_coords\n",
    "print(f\"res-len={len(result)} state={computer.state}, i={i+1}\")"
   ]
  },
  {
   "cell_type": "code",
   "execution_count": null,
   "metadata": {},
   "outputs": [],
   "source": [
    "### personal input solution, puzzle 2\n",
    "#log.setLevel(logging.INFO)\n",
    "#data = aoc.read_file_firstline_to_str('day11.in')\n",
    "#data = list(map(int, data.split(',')))\n",
    "#log.info(f\"data-type={type(data)} data=\\n{aoc.cl(data)}\")\n",
    "\n",
    "computer = init_interpreter(data)\n",
    "seen_coords[cur_coord] = 1  # initial state \"painted white\"\n",
    "\n",
    "max_iter = 1e7\n",
    "i = 0\n",
    "sub_cmd = 0\n",
    "while (computer.state != IntcodeInterpreter.STATE_HALTED) and i < max_iter:\n",
    "  i += 1\n",
    "  computer.interpret_program(pause_on_output=True, pause_on_input=True)\n",
    "  if computer.waits_for_input():\n",
    "    computer.store_int_stdin(get_coord_color())\n",
    "  elif computer.has_output():\n",
    "    if sub_cmd == 0:\n",
    "      paint_coord_color(computer.fetch_int_stdout())\n",
    "      sub_cmd = 1\n",
    "    elif sub_cmd == 1:\n",
    "      turn_dir_and_move1(computer.fetch_int_stdout())\n",
    "      sub_cmd = 0\n",
    "\n",
    "result = painted_coords\n",
    "print(f\"res-len={len(result)} state={computer.state}, i={i+1}\")\n",
    "\n",
    "xmin = 9999\n",
    "xmax = -9999\n",
    "ymin = 9999\n",
    "ymax = -9999\n",
    "\n",
    "for coord in seen_coords.keys():\n",
    "  if coord[0] < xmin:\n",
    "    xmin = coord[0]\n",
    "  if coord[0] > xmax:\n",
    "    xmax = coord[0]\n",
    "  if coord[1] < ymin:\n",
    "    ymin = coord[1]\n",
    "  if coord[1] > ymax:\n",
    "    ymax = coord[1]\n",
    "offset = [-xmin, -ymin]\n",
    "print(f\"dimensions = {[[xmin, xmax], [ymin, ymax]]}, offset={offset}\")\n",
    "\n",
    "ofs_x = offset[0]\n",
    "ofs_y = offset[1]\n",
    "rows2d = []\n",
    "for row in range(ymax + ofs_y + 1):\n",
    "  cur_row = []\n",
    "  for col in range(xmax + ofs_x + 1):\n",
    "    c = tuple([col-ofs_x, row-ofs_y])\n",
    "    if c in seen_coords:\n",
    "      if seen_coords[c] == 1:\n",
    "        cur_row.append('#')\n",
    "      else:\n",
    "        cur_row.append(' ')\n",
    "    else:\n",
    "      cur_row.append('_')\n",
    "  rows2d.append(cur_row)\n",
    "rows2d.reverse()\n",
    "print(aoc.represent_2d_char_list(rows2d))\n"
   ]
  },
  {
   "cell_type": "code",
   "execution_count": null,
   "metadata": {},
   "outputs": [],
   "source": []
  }
 ],
 "metadata": {
  "kernelspec": {
   "display_name": "Python 3",
   "language": "python",
   "name": "python3"
  },
  "language_info": {
   "codemirror_mode": {
    "name": "ipython",
    "version": 3
   },
   "file_extension": ".py",
   "mimetype": "text/x-python",
   "name": "python",
   "nbconvert_exporter": "python",
   "pygments_lexer": "ipython3",
   "version": "3.7.5"
  }
 },
 "nbformat": 4,
 "nbformat_minor": 4
}
