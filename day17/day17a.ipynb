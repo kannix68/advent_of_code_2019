{
 "cells": [
  {
   "cell_type": "code",
   "execution_count": null,
   "metadata": {},
   "outputs": [],
   "source": [
    "##\n",
    "# Advent of code 2019, AoC day 17 puzzle 1\n",
    "# This solution (python3.7 jupyter notebook) by kannix68, @ 2020-01-05.\n",
    "\n",
    "import sys\n",
    "sys.path.insert(0, '..')  # allow import from parent dir\n",
    "import lib.aochelper as aoc"
   ]
  },
  {
   "cell_type": "code",
   "execution_count": null,
   "metadata": {},
   "outputs": [],
   "source": [
    "import logging\n",
    "logging.basicConfig(stream=sys.stdout, level=logging.INFO)\n",
    "log = logging.getLogger(__name__)"
   ]
  },
  {
   "cell_type": "code",
   "execution_count": null,
   "metadata": {},
   "outputs": [],
   "source": [
    "## PROBLEM DOMAIN code\n",
    "from lib.intcode_interpreter import *"
   ]
  },
  {
   "cell_type": "code",
   "execution_count": null,
   "metadata": {},
   "outputs": [],
   "source": [
    "def get_mazelst_intersect_prodsum(maze_lst):\n",
    "  result = 0\n",
    "  for y in range(len(maze_lst)):\n",
    "    for x in range(len(maze_lst[0])):\n",
    "      if maze_lst[y][x] == '#': # crossings only if own cell is on a rail\n",
    "        nbrs = aoc.get_neighbors(maze_lst, x, y)\n",
    "        if ''.join(nbrs) == '####':\n",
    "          log.info(f\"intersection found at ({x,y})\")\n",
    "          result += x*y\n",
    "  return result"
   ]
  },
  {
   "cell_type": "code",
   "execution_count": null,
   "metadata": {},
   "outputs": [],
   "source": [
    "def solve(program: list, base_combi: list) -> int:\n",
    "  return 0"
   ]
  },
  {
   "cell_type": "code",
   "execution_count": null,
   "metadata": {},
   "outputs": [],
   "source": [
    "## MAIN"
   ]
  },
  {
   "cell_type": "code",
   "execution_count": null,
   "metadata": {},
   "outputs": [],
   "source": [
    "### tests\n",
    "log.setLevel(logging.DEBUG)"
   ]
  },
  {
   "cell_type": "code",
   "execution_count": null,
   "metadata": {},
   "outputs": [],
   "source": [
    "# example \"1\"\n",
    "maze_str = \"\"\"\n",
    "..#..........\n",
    "..#..........\n",
    "#######...###\n",
    "#.#...#...#.#\n",
    "#############\n",
    "..#...#...#..\n",
    "..#####...^..\n",
    "\"\"\".strip()\n",
    "maze_lst = maze_str.split(\"\\n\")\n",
    "log.info(f\"maze_lst=\\n{aoc.represent_strlist(maze_lst)}\")\n",
    "result = get_mazelst_intersect_prodsum(maze_lst)\n",
    "print(f\"result={result}\") "
   ]
  },
  {
   "cell_type": "code",
   "execution_count": null,
   "metadata": {},
   "outputs": [],
   "source": [
    "### personal input solution, puzzle 1\n",
    "log.setLevel(logging.INFO)\n",
    "data = aoc.read_file_firstline_to_str('day17.in')\n",
    "data = list(map(int, data.split(',')))\n",
    "log.debug(f\"data-type={type(data)} data=\\n{aoc.cl(data)}\")\n",
    "\n",
    "computer = IntcodeInterpreter(data, mem_growable=True)\n",
    "computer.interpret_program()\n",
    "outputs = computer.pseudo_stdout\n",
    "log.debug(f\"outputs={outputs}\")\n",
    "maze_str = \"\"\n",
    "for i in outputs:\n",
    "  if i < 32:\n",
    "    if i == 10:\n",
    "      maze_str += \"\\n\"\n",
    "    else:\n",
    "      raise(RuntimeError(f\"input ASCII non-printable char #{i} not handled\")) \n",
    "  else:\n",
    "    maze_str += chr(i)\n",
    "\n",
    "maze_lst = maze_str.strip().split(\"\\n\")\n",
    "#log.info(f\"mazestr=\\n{maze_str}\")\n",
    "log.info(f\"maze_lst=\\n{aoc.represent_strlist(maze_lst)}\")\n",
    "result = get_mazelst_intersect_prodsum(maze_lst)\n",
    "print(f\"result={result}\") "
   ]
  }
 ],
 "metadata": {
  "kernelspec": {
   "display_name": "Python 3",
   "language": "python",
   "name": "python3"
  },
  "language_info": {
   "codemirror_mode": {
    "name": "ipython",
    "version": 3
   },
   "file_extension": ".py",
   "mimetype": "text/x-python",
   "name": "python",
   "nbconvert_exporter": "python",
   "pygments_lexer": "ipython3",
   "version": "3.7.5"
  }
 },
 "nbformat": 4,
 "nbformat_minor": 4
}
