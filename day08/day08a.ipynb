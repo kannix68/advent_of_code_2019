{
 "cells": [
  {
   "cell_type": "code",
   "execution_count": null,
   "metadata": {},
   "outputs": [],
   "source": [
    "##\n",
    "# Advent of code 2019, AoC day 8 puzzle 1\n",
    "# This solution (python3.7 jupyter notebook) by kannix68, @ 2019-12-31.\n",
    "\n",
    "import sys\n",
    "sys.path.insert(0, '..')  # allow import from parent dir\n",
    "import lib.aochelper as aoc"
   ]
  },
  {
   "cell_type": "code",
   "execution_count": null,
   "metadata": {},
   "outputs": [],
   "source": [
    "## PROBLEM DOMAIN code"
   ]
  },
  {
   "cell_type": "code",
   "execution_count": null,
   "metadata": {},
   "outputs": [],
   "source": [
    "# flatten a list\n",
    "# see [python - How to make a flat list out of list of lists? - Stack Overflow](https://stackoverflow.com/questions/952914/how-to-make-a-flat-list-out-of-list-of-lists)\n",
    "# flatten = lambda l: [item for sublist in l for item in sublist]\n",
    "def flatten(l):\n",
    "  \"\"\"Flatten an arbitrary list-of-lists into one flat list.\"\"\"\n",
    "  return [item for sublist in l for item in sublist]"
   ]
  },
  {
   "cell_type": "code",
   "execution_count": null,
   "metadata": {},
   "outputs": [],
   "source": [
    "def build_image(s, layer_width, layer_height):\n",
    "  layer_size = layer_width * layer_height\n",
    "  stp = 0\n",
    "  l = 0\n",
    "  x = 0\n",
    "  y = 0\n",
    "  img = []\n",
    "  cur_layer = []\n",
    "  cur_row = []\n",
    "  for i in map(int, s):\n",
    "    if 0 == stp % layer_size and stp > 0:  # new layer\n",
    "      #print(f\"stp={stp}, new layer\")\n",
    "      l += 1\n",
    "      x = 0\n",
    "      y = 0\n",
    "      cur_layer.append(cur_row)\n",
    "      img.append(cur_layer)\n",
    "      cur_layer = []\n",
    "      cur_row = []\n",
    "    else:\n",
    "      if 0 == stp % layer_width and stp > 0:  # new row\n",
    "        #print(f\"stp={stp}, new row\")\n",
    "        y += 1\n",
    "        x = 0\n",
    "        cur_layer.append(cur_row)\n",
    "        cur_row = []\n",
    "    cur_row.append(i)\n",
    "    #print(f\"  stp={stp} appended {i} at pos={x,y} in layer={l}\")\n",
    "    stp += 1\n",
    "    x += 1\n",
    "  cur_layer.append(cur_row)\n",
    "  img.append(cur_layer)\n",
    "  #print(f\"img={img}\")\n",
    "  return img"
   ]
  },
  {
   "cell_type": "code",
   "execution_count": null,
   "metadata": {},
   "outputs": [],
   "source": [
    "def analyse_img(img):\n",
    "  flat_layers = list(map(flatten, img))\n",
    "  #print(f\"flattened layers={list(flat_layers)}\")\n",
    "  num_zeros = list(map(lambda l: len(list(filter(lambda i: i == 0, l))), flat_layers))\n",
    "  print(f\"num_0s list={num_zeros}\")\n",
    "\n",
    "  # see [Python: Find index of minimum item in list of floats - Stack Overflow](https://stackoverflow.com/questions/13300962/python-find-index-of-minimum-item-in-list-of-floats)\n",
    "  val, idx = min((val, idx) for (idx, val) in enumerate(num_zeros))\n",
    "\n",
    "  print(f\"min 0s layer idx#={idx} val={val}\")\n",
    "  target_layer = flat_layers[idx]\n",
    "  #print(f\"target layer={target_layer}\")\n",
    "\n",
    "  num_layer_1s = len(list(filter(lambda i: i == 1, target_layer)))\n",
    "  num_layer_2s = len(list(filter(lambda i: i == 2, target_layer)))\n",
    "  prod = num_layer_1s * num_layer_2s\n",
    "  print(f\"#_1s={num_layer_1s} #_2s={num_layer_2s}; product={prod}\")\n",
    "  \n",
    "  return prod"
   ]
  },
  {
   "cell_type": "code",
   "execution_count": null,
   "metadata": {},
   "outputs": [],
   "source": [
    "def solve(inputs):\n",
    "  layer_width = 25\n",
    "  layer_height = 6\n",
    "  return analyse_img(build_image(inputs, layer_width, layer_height))"
   ]
  },
  {
   "cell_type": "code",
   "execution_count": null,
   "metadata": {},
   "outputs": [],
   "source": [
    "## MAIN"
   ]
  },
  {
   "cell_type": "code",
   "execution_count": null,
   "metadata": {},
   "outputs": [],
   "source": [
    "### tests"
   ]
  },
  {
   "cell_type": "code",
   "execution_count": null,
   "metadata": {},
   "outputs": [],
   "source": [
    "ins = '123456789012'\n",
    "print(f\"ins={ins}\")\n",
    "expectd = 1\n",
    "\n",
    "test_img = build_image(ins, 3, 2)\n",
    "res = analyse_img(test_img)\n",
    "\n",
    "aoc.assert_msg(f\"input={ins} expects output={expectd}, got {res}\", expectd == res)"
   ]
  },
  {
   "cell_type": "code",
   "execution_count": null,
   "metadata": {},
   "outputs": [],
   "source": [
    "### personal input solution"
   ]
  },
  {
   "cell_type": "code",
   "execution_count": null,
   "metadata": {},
   "outputs": [],
   "source": [
    "ins = aoc.read_file_firstline_to_str(\"day08.in\")\n",
    "#print(f\"{ins}\")\n",
    "res = solve(ins)\n",
    "print(f\"result={res}\")"
   ]
  }
 ],
 "metadata": {
  "kernelspec": {
   "display_name": "Python 3",
   "language": "python",
   "name": "python3"
  },
  "language_info": {
   "codemirror_mode": {
    "name": "ipython",
    "version": 3
   },
   "file_extension": ".py",
   "mimetype": "text/x-python",
   "name": "python",
   "nbconvert_exporter": "python",
   "pygments_lexer": "ipython3",
   "version": "3.7.5"
  }
 },
 "nbformat": 4,
 "nbformat_minor": 4
}
