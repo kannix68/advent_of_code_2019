{
 "cells": [
  {
   "cell_type": "code",
   "execution_count": null,
   "metadata": {},
   "outputs": [],
   "source": [
    "##\n",
    "# Advent of code 2019, AoC day 8 puzzle 2\n",
    "# This solution (python3.7 jupyter notebook) by kannix68, @ 2019-12-31.\n",
    "\n",
    "import sys\n",
    "sys.path.insert(0, '..')  # allow import from parent dir\n",
    "import lib.aochelper as aoc"
   ]
  },
  {
   "cell_type": "code",
   "execution_count": null,
   "metadata": {},
   "outputs": [],
   "source": [
    "## PROBLEM DOMAIN code"
   ]
  },
  {
   "cell_type": "code",
   "execution_count": null,
   "metadata": {},
   "outputs": [],
   "source": [
    "# flatten a list\n",
    "# see [python - How to make a flat list out of list of lists? - Stack Overflow](https://stackoverflow.com/questions/952914/how-to-make-a-flat-list-out-of-list-of-lists)\n",
    "# flatten = lambda l: [item for sublist in l for item in sublist]\n",
    "def flatten(l):\n",
    "  \"\"\"Flatten an arbitrary list-of-lists into one flat list.\"\"\"\n",
    "  return [item for sublist in l for item in sublist]"
   ]
  },
  {
   "cell_type": "code",
   "execution_count": null,
   "metadata": {},
   "outputs": [],
   "source": [
    "def build_image(s, layer_width, layer_height):\n",
    "  layer_size = layer_width * layer_height\n",
    "  stp = 0\n",
    "  l = 0\n",
    "  x = 0\n",
    "  y = 0\n",
    "  img = []\n",
    "  cur_layer = []\n",
    "  cur_row = []\n",
    "  for i in map(int, s):\n",
    "    if 0 == stp % layer_size and stp > 0:  # new layer\n",
    "      #print(f\"stp={stp}, new layer\")\n",
    "      l += 1\n",
    "      x = 0\n",
    "      y = 0\n",
    "      cur_layer.append(cur_row)\n",
    "      img.append(cur_layer)\n",
    "      cur_layer = []\n",
    "      cur_row = []\n",
    "    else:\n",
    "      if 0 == stp % layer_width and stp > 0:  # new row\n",
    "        #print(f\"stp={stp}, new row\")\n",
    "        y += 1\n",
    "        x = 0\n",
    "        cur_layer.append(cur_row)\n",
    "        cur_row = []\n",
    "    cur_row.append(i)\n",
    "    #print(f\"  stp={stp} appended {i} at pos={x,y} in layer={l}\")\n",
    "    stp += 1\n",
    "    x += 1\n",
    "  cur_layer.append(cur_row)\n",
    "  img.append(cur_layer)\n",
    "  #print(f\"img={img}\")\n",
    "  return img"
   ]
  },
  {
   "cell_type": "code",
   "execution_count": null,
   "metadata": {},
   "outputs": [],
   "source": [
    "def represent_2d_char_list(l):\n",
    "  \"\"\"Output a 2d character list as aligned multiline string. Can be used for printing.\"\"\"\n",
    "  row_num = 0\n",
    "  repres = \"\"\n",
    "  for rowlist in l:\n",
    "    if row_num > 0:\n",
    "      repres += \"\\n\"\n",
    "    for c in rowlist:\n",
    "      repres += str(c)\n",
    "    row_num += 1\n",
    "  return repres"
   ]
  },
  {
   "cell_type": "code",
   "execution_count": null,
   "metadata": {},
   "outputs": [],
   "source": [
    "def analyse_img(img):\n",
    "  # 0=black, 1=white, 2=transparent\n",
    "  layers_len = len(img)\n",
    "  ylen = len(img[0])\n",
    "  xlen = len(img[0][0])\n",
    "  print(f\"layers#={layers_len} xlen={xlen}, ylen={ylen}\")\n",
    "  out_img = img[0].copy()\n",
    "  \n",
    "  for y in range(ylen):\n",
    "    for x in range(xlen):\n",
    "      found_val = -1  # found pixel \"color\"\n",
    "      for l in range(layers_len):\n",
    "        val = img[l][y][x]\n",
    "        out_img[y][x] = val\n",
    "        if val < 2:\n",
    "          break\n",
    "  print(f\"decoded_img list={out_img}\")\n",
    "  img_repr1 = represent_2d_char_list(out_img)\n",
    "  print(f\"decoded_img representation1=\\n{img_repr1}\")\n",
    "  img_repr2 = img_repr1.replace('0', ' ').replace('1','#')\n",
    "  print(f\"decoded_img representation2=\\n{img_repr2}\")\n",
    "  \n",
    "  return 0"
   ]
  },
  {
   "cell_type": "code",
   "execution_count": null,
   "metadata": {},
   "outputs": [],
   "source": [
    "def solve(inputs):\n",
    "  layer_width = 25\n",
    "  layer_height = 6\n",
    "  return analyse_img(build_image(inputs, layer_width, layer_height))"
   ]
  },
  {
   "cell_type": "code",
   "execution_count": null,
   "metadata": {},
   "outputs": [],
   "source": [
    "## MAIN"
   ]
  },
  {
   "cell_type": "code",
   "execution_count": null,
   "metadata": {},
   "outputs": [],
   "source": [
    "### tests"
   ]
  },
  {
   "cell_type": "code",
   "execution_count": null,
   "metadata": {},
   "outputs": [],
   "source": [
    "ins = '0222112222120000'\n",
    "print(f\"ins={ins}\")\n",
    "expectd = 0\n",
    "\n",
    "test_img = build_image(ins, 2, 2)\n",
    "print(f\"test_img={test_img}\")\n",
    "res = analyse_img(test_img)\n",
    "\n",
    "aoc.assert_msg(f\"input={ins} expects output={expectd}, got {res}\", expectd == res)"
   ]
  },
  {
   "cell_type": "code",
   "execution_count": null,
   "metadata": {},
   "outputs": [],
   "source": [
    "### personal input solution"
   ]
  },
  {
   "cell_type": "code",
   "execution_count": null,
   "metadata": {},
   "outputs": [],
   "source": [
    "ins = aoc.read_file_firstline_to_str(\"day08.in\")\n",
    "#print(f\"{ins}\")\n",
    "res = solve(ins)\n",
    "print(f\"result={res}\")\n",
    "# NOTE: this shows a resulting image \"font\" pattern message as debug/print string"
   ]
  },
  {
   "cell_type": "code",
   "execution_count": null,
   "metadata": {},
   "outputs": [],
   "source": []
  },
  {
   "cell_type": "code",
   "execution_count": null,
   "metadata": {},
   "outputs": [],
   "source": []
  }
 ],
 "metadata": {
  "kernelspec": {
   "display_name": "Python 3",
   "language": "python",
   "name": "python3"
  },
  "language_info": {
   "codemirror_mode": {
    "name": "ipython",
    "version": 3
   },
   "file_extension": ".py",
   "mimetype": "text/x-python",
   "name": "python",
   "nbconvert_exporter": "python",
   "pygments_lexer": "ipython3",
   "version": "3.7.5"
  }
 },
 "nbformat": 4,
 "nbformat_minor": 4
}
