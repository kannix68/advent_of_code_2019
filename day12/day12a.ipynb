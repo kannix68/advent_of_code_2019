{
 "cells": [
  {
   "cell_type": "code",
   "execution_count": null,
   "metadata": {},
   "outputs": [],
   "source": [
    "##\n",
    "# Advent of code 2019, AoC day 12 puzzle 1\n",
    "# This solution (python3.7 jupyter notebook) by kannix68, @ 2020-01-01.\n",
    "\n",
    "import sys\n",
    "sys.path.insert(0, '..')  # allow import from parent dir\n",
    "import lib.aochelper as aoc"
   ]
  },
  {
   "cell_type": "code",
   "execution_count": null,
   "metadata": {},
   "outputs": [],
   "source": [
    "import logging\n",
    "logging.basicConfig(stream=sys.stdout, level=logging.DEBUG)\n",
    "log = logging.getLogger(__name__)\n",
    "#log.setLevel(logging.DEBUG)\n",
    "log.setLevel(logging.INFO)"
   ]
  },
  {
   "cell_type": "code",
   "execution_count": null,
   "metadata": {},
   "outputs": [],
   "source": [
    "## PROBLEM DOMAIN code\n",
    "import itertools\n",
    "import re"
   ]
  },
  {
   "cell_type": "code",
   "execution_count": null,
   "metadata": {},
   "outputs": [],
   "source": [
    "class statics:\n",
    "  str_2_sys_re = re.compile(r'<x=(-?\\d+), y=(-?\\d+), z=(-?\\d+)>')"
   ]
  },
  {
   "cell_type": "code",
   "execution_count": null,
   "metadata": {},
   "outputs": [],
   "source": [
    "class Body:\n",
    "  def __init__(self, pos=None, vel=None):\n",
    "    self.pos = pos\n",
    "    self.vel = vel\n",
    "    if pos is None:\n",
    "      self.pos = [0, 0, 0]\n",
    "    if vel is None:\n",
    "      self.vel = [0, 0, 0]\n",
    "\n",
    "  def __repr__(self):\n",
    "    return \"Body\"\n",
    "\n",
    "  def __str__(self):\n",
    "    return f\"Body[pos={self.pos}, vel={self.vel}] E_pot={self.get_E_pot()}, E_kin={self.get_E_kin()}, E_tot={self.get_E_tot()}\"\n",
    "\n",
    "  def get_E_pot(self) -> int:\n",
    "    \"\"\"Get Potential Energy\"\"\"\n",
    "    val = self.pos\n",
    "    e = abs(val[0]) + abs(val[1]) + abs(val[2])\n",
    "    return e\n",
    "\n",
    "  def get_E_kin(self):\n",
    "    \"\"\"Get kinetic energy\"\"\"\n",
    "    val = self.vel\n",
    "    e = abs(val[0]) + abs(val[1]) + abs(val[2])\n",
    "    return e\n",
    "\n",
    "  def get_E_tot(self):\n",
    "    \"\"\"Get total energy\"\"\"\n",
    "    return self.get_E_pot() * self.get_E_kin()"
   ]
  },
  {
   "cell_type": "code",
   "execution_count": null,
   "metadata": {},
   "outputs": [],
   "source": [
    "class NBodySystem:\n",
    "  def __init__(self, tm=0, bodies=None):\n",
    "    self.tm = tm\n",
    "    self.bodies = bodies\n",
    "    if bodies is None:\n",
    "      self.bodies = []\n",
    "    log.info(f\"initialised {self}\")\n",
    "\n",
    "  def __repr__(self):\n",
    "    return \"NBodySystem\"\n",
    "\n",
    "  def __str__(self):\n",
    "    return f\"NBodySystem[tm={self.tm}, #bodies={len(self.bodies)}] E_pot={self.get_E_pot()}, E_kin={self.get_E_kin()}, E_tot={self.get_E_tot()}\"  \n",
    "  \n",
    "  def get_bodies_str(self):\n",
    "    return \"\\n\".join(map(str, self.bodies))\n",
    "\n",
    "  def add_body(self, b) -> None:\n",
    "    self.bodies.append(b)\n",
    "    log.info(f\"  added {b}\")\n",
    "\n",
    "  def get_E_pot(self) -> int:\n",
    "    \"\"\"Get Potential Energy\"\"\"\n",
    "    e = 0\n",
    "    for b in self.bodies:\n",
    "      e += b.get_E_pot()\n",
    "    return e\n",
    "\n",
    "  def get_E_kin(self) -> int:\n",
    "    \"\"\"Get kinetic energy\"\"\"\n",
    "    e = 0\n",
    "    for b in self.bodies:\n",
    "      e += b.get_E_kin()\n",
    "    return e\n",
    "\n",
    "  def get_E_tot(self) -> int:\n",
    "    \"\"\"Get total energy\"\"\"\n",
    "    e = 0\n",
    "    for b in self.bodies:\n",
    "      e += b.get_E_tot()\n",
    "    return e\n",
    "\n",
    "  def iterate_step(self) -> None:\n",
    "    n_bodies = len(self.bodies)\n",
    "    bodies_dv = []\n",
    "    for i in range(n_bodies):\n",
    "      bodies_dv.append([0, 0, 0])\n",
    "    for combi in itertools.combinations(range(n_bodies), 2):\n",
    "      #log.debug(f\"body-idx-combi={combi}\")\n",
    "      idx1 = combi[0]\n",
    "      idx2 = combi[1]\n",
    "      b1pos = self.bodies[idx1].pos\n",
    "      b2pos = self.bodies[idx2].pos\n",
    "      for dimen in range(3):\n",
    "        if b1pos[dimen] == b2pos[dimen]:\n",
    "          a = 0\n",
    "        elif b1pos[dimen] < b2pos[dimen]:\n",
    "          a = 1\n",
    "        elif b1pos[dimen] > b2pos[dimen]:\n",
    "          a = -1\n",
    "        bodies_dv[idx1][dimen] += a\n",
    "        bodies_dv[idx2][dimen] -= a\n",
    "      # end for dimen\n",
    "    # end for combi\n",
    "    log.debug(f\"bodies_dv={bodies_dv}\")\n",
    "    for idx in range(n_bodies):\n",
    "      for dimen in range(3):\n",
    "        self.bodies[idx].vel[dimen] += bodies_dv[idx][dimen]\n",
    "        self.bodies[idx].pos[dimen] += self.bodies[idx].vel[dimen]\n",
    "    self.tm +=1\n",
    "    log.info(f\"nbodysystem iterated to {self}\")\n",
    "    for i in range(n_bodies):\n",
    "      log.debug(f\"  final body={self.bodies[i]}\")\n",
    "\n",
    "  def iterate(self, tm_steps=1) -> None:\n",
    "    for i in range(tm_steps):\n",
    "      self.iterate_step()"
   ]
  },
  {
   "cell_type": "code",
   "execution_count": null,
   "metadata": {},
   "outputs": [],
   "source": [
    "def get_sys_from_str(s: str):\n",
    "  #log.debug(f\"get_sys_from_str called with {s}\")\n",
    "  nbodysystem = NBodySystem()\n",
    "  for line in s.split(\"\\n\"):\n",
    "    m = statics.str_2_sys_re.match(line)\n",
    "    if not m:\n",
    "      raise(RuntimeError(f\"unparseable line {line}\"))\n",
    "    body_pos = list(map(int, [m.group(1), m.group(2), m.group(3)]))\n",
    "    body = Body(pos=body_pos)\n",
    "    log.debug(f\"body={body}\")\n",
    "    nbodysystem.add_body(body)\n",
    "  log.debug(f\"nbodysystem={nbodysystem}\")\n",
    "  return nbodysystem"
   ]
  },
  {
   "cell_type": "code",
   "execution_count": null,
   "metadata": {},
   "outputs": [],
   "source": [
    "#def solve(inputs: str) -> int:\n",
    "#  return 0"
   ]
  },
  {
   "cell_type": "code",
   "execution_count": null,
   "metadata": {},
   "outputs": [],
   "source": [
    "## MAIN"
   ]
  },
  {
   "cell_type": "code",
   "execution_count": null,
   "metadata": {},
   "outputs": [],
   "source": [
    "### tests"
   ]
  },
  {
   "cell_type": "code",
   "execution_count": null,
   "metadata": {},
   "outputs": [],
   "source": [
    "## example 1\n",
    "ins = \"\"\"\n",
    "<x=-1, y=0, z=2>\n",
    "<x=2, y=-10, z=-7>\n",
    "<x=4, y=-8, z=8>\n",
    "<x=3, y=5, z=-1>\n",
    "\"\"\".strip()\n",
    "log.debug(f\"ins=\\n{ins}\")\n",
    "\n",
    "nbs = get_sys_from_str(ins)\n",
    "nbs.iterate(tm_steps=10)\n",
    "log.info(f\"final system::\\n{nbs} --\\n{nbs.get_bodies_str()}\")\n",
    "res = nbs.get_E_tot()\n",
    "\n",
    "expectd = 179\n",
    "aoc.assert_msg(f\"input={ins} expects output={expectd}, got {res}\", expectd == res)"
   ]
  },
  {
   "cell_type": "code",
   "execution_count": null,
   "metadata": {},
   "outputs": [],
   "source": [
    "# example 2\n",
    "ins = \"\"\"\n",
    "<x=-8, y=-10, z=0>\n",
    "<x=5, y=5, z=10>\n",
    "<x=2, y=-7, z=3>\n",
    "<x=9, y=-8, z=-3>\n",
    "\"\"\".strip()\n",
    "log.debug(f\"ins=\\n{ins}\")\n",
    "\n",
    "nbs = get_sys_from_str(ins)\n",
    "log.setLevel(logging.WARN)\n",
    "nbs.iterate(tm_steps=100)\n",
    "log.setLevel(logging.INFO)\n",
    "log.info(f\"final system::\\n{nbs} --\\n{nbs.get_bodies_str()}\")\n",
    "res = nbs.get_E_tot()\n",
    "\n",
    "expectd = 1940\n",
    "aoc.assert_msg(f\"input={ins} expects output={expectd}, got {res}\", expectd == res)"
   ]
  },
  {
   "cell_type": "code",
   "execution_count": null,
   "metadata": {},
   "outputs": [],
   "source": [
    "### personal input solution"
   ]
  },
  {
   "cell_type": "code",
   "execution_count": null,
   "metadata": {},
   "outputs": [],
   "source": [
    "ins = aoc.read_file_to_str(\"day12.in\")\n",
    "log.info(f\"input={ins}\")\n",
    "nbs = get_sys_from_str(ins)\n",
    "log.setLevel(logging.WARN)\n",
    "nbs.iterate(tm_steps=1000)\n",
    "log.setLevel(logging.INFO)\n",
    "log.info(f\"final system::\\n{nbs} --\\n{nbs.get_bodies_str()}\")\n",
    "res = nbs.get_E_tot()\n",
    "print(f\"result={res}\")"
   ]
  }
 ],
 "metadata": {
  "kernelspec": {
   "display_name": "Python 3",
   "language": "python",
   "name": "python3"
  },
  "language_info": {
   "codemirror_mode": {
    "name": "ipython",
    "version": 3
   },
   "file_extension": ".py",
   "mimetype": "text/x-python",
   "name": "python",
   "nbconvert_exporter": "python",
   "pygments_lexer": "ipython3",
   "version": "3.7.5"
  }
 },
 "nbformat": 4,
 "nbformat_minor": 4
}
