{
 "cells": [
  {
   "cell_type": "code",
   "execution_count": null,
   "metadata": {},
   "outputs": [],
   "source": [
    "##\n",
    "# Advent of code 2019, AoC day 12 puzzle 2\n",
    "# This solution (python3.7 jupyter notebook) by kannix68, @ 2020-01-03.\n",
    "\n",
    "import sys\n",
    "sys.path.insert(0, '..')  # allow import from parent dir\n",
    "import lib.aochelper as aoc"
   ]
  },
  {
   "cell_type": "code",
   "execution_count": null,
   "metadata": {},
   "outputs": [],
   "source": [
    "import logging\n",
    "logging.basicConfig(stream=sys.stdout, level=logging.INFO)\n",
    "log = logging.getLogger(__name__)\n",
    "#log.setLevel(logging.DEBUG)\n",
    "log.setLevel(logging.INFO)"
   ]
  },
  {
   "cell_type": "code",
   "execution_count": null,
   "metadata": {},
   "outputs": [],
   "source": [
    "## PROBLEM DOMAIN code\n",
    "from nbodysystem import *"
   ]
  },
  {
   "cell_type": "code",
   "execution_count": null,
   "metadata": {},
   "outputs": [],
   "source": [
    "#class statics:\n",
    "#  str_2_sys_re = re.compile(r'<x=(-?\\d+), y=(-?\\d+), z=(-?\\d+)>')"
   ]
  },
  {
   "cell_type": "code",
   "execution_count": null,
   "metadata": {},
   "outputs": [],
   "source": [
    "def solve(inputs: str) -> int:\n",
    "  nbs = get_sys_from_str(inputs)\n",
    "  #nbs.iterate()\n",
    "  nbs.iterate(tm_steps=2)\n",
    "  return 0"
   ]
  },
  {
   "cell_type": "code",
   "execution_count": null,
   "metadata": {},
   "outputs": [],
   "source": [
    "## MAIN"
   ]
  },
  {
   "cell_type": "code",
   "execution_count": null,
   "metadata": {},
   "outputs": [],
   "source": [
    "### tests"
   ]
  },
  {
   "cell_type": "code",
   "execution_count": null,
   "metadata": {},
   "outputs": [],
   "source": [
    "## example 1\n",
    "ins = \"\"\"\n",
    "<x=-1, y=0, z=2>\n",
    "<x=2, y=-10, z=-7>\n",
    "<x=4, y=-8, z=8>\n",
    "<x=3, y=5, z=-1>\n",
    "\"\"\".strip()\n",
    "log.debug(f\"ins=\\n{ins}\")\n",
    "\n",
    "nbs = get_sys_from_str(ins)\n",
    "tm0_pos_id = nbs.get_id()\n",
    "log.info(f\"nbs {nbs} pos_id={tm0_pos_id}\")\n",
    "seen = {}\n",
    "seen[tm0_pos_id] = True\n",
    "\n",
    "found_tm = -1\n",
    "for i in range(10000):\n",
    "  nbs.iterate()\n",
    "  k = nbs.get_id()\n",
    "  if k in seen:\n",
    "    log.warning(f\"found repetition in {nbs}\")\n",
    "    found_tm = nbs.tm\n",
    "    break\n",
    "  else:\n",
    "    seen[k] = True\n",
    "res = found_tm\n",
    "\n",
    "expectd = 2772\n",
    "aoc.assert_msg(f\"input={ins} expects output={expectd}, got {res}\", expectd == res)"
   ]
  },
  {
   "cell_type": "code",
   "execution_count": null,
   "metadata": {},
   "outputs": [],
   "source": [
    "# example 2\n"
   ]
  },
  {
   "cell_type": "code",
   "execution_count": null,
   "metadata": {},
   "outputs": [],
   "source": [
    "### personal input solution"
   ]
  },
  {
   "cell_type": "code",
   "execution_count": null,
   "metadata": {},
   "outputs": [],
   "source": [
    "ins = aoc.read_file_to_str(\"day12.in\")\n",
    "log.info(f\"input={ins}\")\n",
    "nbs = get_sys_from_str(ins)\n",
    "res = 0\n",
    "print(f\"result={res}\")"
   ]
  }
 ],
 "metadata": {
  "kernelspec": {
   "display_name": "Python 3",
   "language": "python",
   "name": "python3"
  },
  "language_info": {
   "codemirror_mode": {
    "name": "ipython",
    "version": 3
   },
   "file_extension": ".py",
   "mimetype": "text/x-python",
   "name": "python",
   "nbconvert_exporter": "python",
   "pygments_lexer": "ipython3",
   "version": "3.7.5"
  }
 },
 "nbformat": 4,
 "nbformat_minor": 4
}
