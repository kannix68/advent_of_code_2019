{
 "cells": [
  {
   "cell_type": "code",
   "execution_count": 2,
   "metadata": {},
   "outputs": [],
   "source": [
    "##\n",
    "# Advent of code 2019, AoC day 12 puzzles 1 and 2.\n",
    "# **External solution**. (Used with python3.7 jupyter notebook by kannix68 @ 2020-01-07.)\n",
    "#\n",
    "# Discussion see [2019 Day 14 Solutions: adventofcode](https://www.reddit.com/r/adventofcode/comments/eafj32/2019_day_14_solutions/)\n",
    "# this gist solution see: https://github.com/kresimir-lukin/AdventOfCode2019/blob/master/day12.py"
   ]
  },
  {
   "cell_type": "code",
   "execution_count": 3,
   "metadata": {},
   "outputs": [
    {
     "name": "stdout",
     "output_type": "stream",
     "text": [
      "Part 1: 13500, Part 2: 278013787106916\n"
     ]
    }
   ],
   "source": [
    "import sys, math, re\n",
    "\n",
    "def parse_point(str):\n",
    "    match = re.match('<x=(-?[0-9]+), y=(-?[0-9]+), z=(-?[0-9]+)>', str)\n",
    "    return (int(match[1]), int(match[2]), int(match[3]))\n",
    "\n",
    "def run_simulation(positions, velocities, steps=float('inf')):\n",
    "    original_positions, original_velocities = positions[:], velocities[:]\n",
    "    step_number = 0\n",
    "    while step_number < steps and (not step_number or positions != original_positions or velocities != original_velocities):\n",
    "        for i in range(len(positions)):\n",
    "            velocities[i] += sum(1 if positions[i] < position else -1 for position in positions if position != positions[i])\n",
    "        for i in range(len(positions)):\n",
    "            positions[i] += velocities[i]\n",
    "        step_number += 1\n",
    "    return step_number\n",
    "\n",
    "def part1(positions):\n",
    "    px, vx = [x for x, _, _ in positions], [0] * len(positions)\n",
    "    py, vy = [y for _, y, _ in positions], [0] * len(positions)\n",
    "    pz, vz = [z for _, _, z in positions], [0] * len(positions)\n",
    "    for p, v in zip((px, py, pz), (vx, vy, vz)):\n",
    "        run_simulation(p, v, 1000)\n",
    "    return sum((abs(px[i]) + abs(py[i]) + abs(pz[i])) * (abs(vx[i]) + abs(vy[i]) + abs(vz[i])) for i in range(len(positions)))\n",
    "\n",
    "def part2(positions):\n",
    "    def _lcm(a, b):\n",
    "        return a * b // math.gcd(a, b)\n",
    "    steps_x = run_simulation([x for x, _, _ in positions], [0] * len(positions))\n",
    "    steps_y = run_simulation([y for _, y, _ in positions], [0] * len(positions))\n",
    "    steps_z = run_simulation([z for _, _, z in positions], [0] * len(positions))\n",
    "    return _lcm(_lcm(steps_x, steps_y), steps_z)\n",
    "\n",
    "#assert len(sys.argv) == 2\n",
    "#fname = sys.argv[1]\n",
    "fname=\"day12.in\"\n",
    "moon_positions = list(map(parse_point, open(fname).read().strip().split('\\n')))\n",
    "\n",
    "print('Part 1: {0}, Part 2: {1}'.format(part1(moon_positions), part2(moon_positions)))"
   ]
  }
 ],
 "metadata": {
  "kernelspec": {
   "display_name": "Python 3",
   "language": "python",
   "name": "python3"
  },
  "language_info": {
   "codemirror_mode": {
    "name": "ipython",
    "version": 3
   },
   "file_extension": ".py",
   "mimetype": "text/x-python",
   "name": "python",
   "nbconvert_exporter": "python",
   "pygments_lexer": "ipython3",
   "version": "3.7.5"
  }
 },
 "nbformat": 4,
 "nbformat_minor": 4
}
