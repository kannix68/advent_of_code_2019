{
 "cells": [
  {
   "cell_type": "code",
   "execution_count": null,
   "metadata": {},
   "outputs": [],
   "source": [
    "import intcode\n",
    "from itertools import count\n",
    "\n",
    "with open('day19.in') as file:\n",
    "    input = file.read().strip()\n"
   ]
  },
  {
   "cell_type": "code",
   "execution_count": null,
   "metadata": {},
   "outputs": [],
   "source": [
    "prog = intcode.parse(input)\n",
    "calls = 0\n",
    "def get(x,y):\n",
    "    global calls\n",
    "    calls += 1\n",
    "    proc = intcode.run(prog.copy())\n",
    "    next(proc)\n",
    "    proc.send(x)\n",
    "    return proc.send(y)\n"
   ]
  },
  {
   "cell_type": "code",
   "execution_count": null,
   "metadata": {},
   "outputs": [],
   "source": [
    "%%time\n",
    "\n",
    "calls = 0\n",
    "affect = 0\n",
    "for y in range(50):\n",
    "    row = ''\n",
    "    for x in range(50):\n",
    "        q = get(x,y)\n",
    "        if q: affect+=1\n",
    "        row += '⬛⭕'[q]\n",
    "    print(row[:43])\n",
    "print('total calls', calls)\n",
    "affect\n"
   ]
  },
  {
   "cell_type": "code",
   "execution_count": null,
   "metadata": {},
   "outputs": [],
   "source": [
    "\n",
    "def getRect(n):\n",
    "    global calls\n",
    "    calls = 0\n",
    "    n-=1\n",
    "    left = 0\n",
    "    for y in count(n):\n",
    "        for x in count(left):\n",
    "            if get(x,y)==0: continue\n",
    "            left = x\n",
    "            if get(x+n,y-n)==0:\n",
    "                break\n",
    "            # abusing the shape of the beam.\n",
    "            print('total calls', calls)\n",
    "            return x,y-n\n"
   ]
  },
  {
   "cell_type": "code",
   "execution_count": null,
   "metadata": {},
   "outputs": [],
   "source": [
    "%%time\n",
    "\n",
    "x, y = getRect(100)\n",
    "print(x, y)\n",
    "print(x*10000+y)"
   ]
  }
 ],
 "metadata": {
  "file_extension": ".py",
  "kernelspec": {
   "display_name": "Python 3",
   "language": "python",
   "name": "python3"
  },
  "language_info": {
   "codemirror_mode": {
    "name": "ipython",
    "version": 3
   },
   "file_extension": ".py",
   "mimetype": "text/x-python",
   "name": "python",
   "nbconvert_exporter": "python",
   "pygments_lexer": "ipython3",
   "version": "3.7.6"
  },
  "mimetype": "text/x-python",
  "name": "python",
  "npconvert_exporter": "python",
  "pygments_lexer": "ipython3",
  "version": 3
 },
 "nbformat": 4,
 "nbformat_minor": 4
}
