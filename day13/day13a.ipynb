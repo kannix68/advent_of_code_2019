{
 "cells": [
  {
   "cell_type": "code",
   "execution_count": null,
   "metadata": {},
   "outputs": [],
   "source": [
    "##\n",
    "# Advent of code 2019, AoC day 13 puzzle 1\n",
    "# This solution (python3.7 jupyter notebook) by kannix68, @ 2020-01-04.\n",
    "\n",
    "import sys\n",
    "sys.path.insert(0, '..')  # allow import from parent dir\n",
    "import lib.aochelper as aoc"
   ]
  },
  {
   "cell_type": "code",
   "execution_count": null,
   "metadata": {},
   "outputs": [],
   "source": [
    "import logging\n",
    "logging.basicConfig(stream=sys.stdout, level=logging.INFO)\n",
    "log = logging.getLogger(__name__)"
   ]
  },
  {
   "cell_type": "code",
   "execution_count": null,
   "metadata": {},
   "outputs": [],
   "source": [
    "## PROBLEM DOMAIN code\n",
    "from collections import defaultdict\n",
    "from collections import OrderedDict\n",
    "#import itertools\n",
    "from lib.intcode_interpreter import *"
   ]
  },
  {
   "cell_type": "code",
   "execution_count": null,
   "metadata": {},
   "outputs": [],
   "source": [
    "def make_grid(inlist: list) -> dict:\n",
    "  outlist = rearrange_list(inlist, 3)\n",
    "  #log.debug(outlist)    \n",
    "  grid = {}\n",
    "  for o in outlist:\n",
    "    c = tuple([o[0], o[1]])\n",
    "    t = o[2]\n",
    "    if c in grid:\n",
    "      # already seen\n",
    "      raise(RuntimeError(f\"object-check not implemented, {o}\"))\n",
    "    grid[c] = t\n",
    "  return grid"
   ]
  },
  {
   "cell_type": "code",
   "execution_count": null,
   "metadata": {},
   "outputs": [],
   "source": [
    "def solve(program: list, base_combi: list) -> int:\n",
    "  return 0"
   ]
  },
  {
   "cell_type": "code",
   "execution_count": null,
   "metadata": {},
   "outputs": [],
   "source": [
    "## MAIN"
   ]
  },
  {
   "cell_type": "code",
   "execution_count": null,
   "metadata": {},
   "outputs": [],
   "source": [
    "### tests\n",
    "log.setLevel(logging.DEBUG)"
   ]
  },
  {
   "cell_type": "code",
   "execution_count": null,
   "metadata": {},
   "outputs": [],
   "source": [
    "# example \"1\"\n",
    "outputs = [1,2,3,6,5,4]\n",
    "grid = make_grid(outputs)\n",
    "log.debug(grid)"
   ]
  },
  {
   "cell_type": "code",
   "execution_count": null,
   "metadata": {},
   "outputs": [],
   "source": [
    "### personal input solution, puzzle 1\n",
    "log.setLevel(logging.INFO)\n",
    "data = aoc.read_file_firstline_to_str('day13.in')\n",
    "data = list(map(int, data.split(',')))\n",
    "log.debug(f\"data-type={type(data)} data=\\n{aoc.cl(data)}\")\n",
    "\n",
    "computer = IntcodeInterpreter(data, mem_growable=True)\n",
    "computer.interpret_program()\n",
    "outputs = computer.pseudo_stdout\n",
    "#log.debug(outputs[:100])\n",
    "grid = make_grid(outputs)\n",
    "#log.info(f\"grid={list(grid[:100])} ...\")\n",
    "print(f\"found {len(grid.keys())} objects\")\n",
    "obj_counts = defaultdict(int)\n",
    "for c in grid.keys():\n",
    "  v = grid[c]\n",
    "  obj_counts[v] += 1\n",
    "print(f\"result={OrderedDict(sorted(obj_counts.items()))}\")"
   ]
  },
  {
   "cell_type": "code",
   "execution_count": null,
   "metadata": {},
   "outputs": [],
   "source": []
  }
 ],
 "metadata": {
  "kernelspec": {
   "display_name": "Python 3",
   "language": "python",
   "name": "python3"
  },
  "language_info": {
   "codemirror_mode": {
    "name": "ipython",
    "version": 3
   },
   "file_extension": ".py",
   "mimetype": "text/x-python",
   "name": "python",
   "nbconvert_exporter": "python",
   "pygments_lexer": "ipython3",
   "version": "3.7.5"
  }
 },
 "nbformat": 4,
 "nbformat_minor": 4
}
