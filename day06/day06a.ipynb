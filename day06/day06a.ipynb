{
 "cells": [
  {
   "cell_type": "code",
   "execution_count": null,
   "metadata": {},
   "outputs": [],
   "source": [
    "##\n",
    "# Advent of code 2019, AoC day 6 puzzle 1\n",
    "# This solution (python3.7 jupyter notebook) by kannix68, @ 2019-12-30.\n",
    "\n",
    "import sys\n",
    "sys.path.insert(0, '..')  # allow import from parent dir\n",
    "import lib.aochelper as aoc"
   ]
  },
  {
   "cell_type": "code",
   "execution_count": null,
   "metadata": {},
   "outputs": [],
   "source": [
    "## PROBLEM DOMAIN code\n",
    "import networkx as nx  # Graph theory module"
   ]
  },
  {
   "cell_type": "code",
   "execution_count": null,
   "metadata": {},
   "outputs": [],
   "source": [
    "def solve(inputs):\n",
    "  g = nx.Graph()\n",
    "  for relat in inputs:\n",
    "    orbit = relat.split(\")\")\n",
    "    g.add_node(orbit[0])\n",
    "    g.add_node(orbit[1])\n",
    "    g.add_edge(orbit[0], orbit[1])\n",
    "  dist_sum = 0\n",
    "  for node in g.nodes():\n",
    "    if node != \"COM\":\n",
    "      dist = len(nx.shortest_path(g, source=node, target=\"COM\")) - 1\n",
    "      dist_sum += dist\n",
    "      print(f\"{node}: dist={dist}\")\n",
    "    else:\n",
    "      print(f\"{node}!\")\n",
    "  return dist_sum"
   ]
  },
  {
   "cell_type": "code",
   "execution_count": null,
   "metadata": {},
   "outputs": [],
   "source": [
    "## MAIN"
   ]
  },
  {
   "cell_type": "code",
   "execution_count": null,
   "metadata": {},
   "outputs": [],
   "source": [
    "### tests"
   ]
  },
  {
   "cell_type": "code",
   "execution_count": null,
   "metadata": {},
   "outputs": [],
   "source": [
    "ins = \"\"\"\n",
    "COM)B\n",
    "B)C\n",
    "C)D\n",
    "D)E\n",
    "E)F\n",
    "B)G\n",
    "G)H\n",
    "D)I\n",
    "E)J\n",
    "J)K\n",
    "K)L\n",
    "\"\"\".strip().split(\"\\n\")\n",
    "print(f\"ins={ins}\")\n",
    "expectd = 42\n",
    "res = solve(ins)\n",
    "aoc.assert_msg(f\"input={ins} expects output={expectd}, got {res}\", expectd == res)"
   ]
  },
  {
   "cell_type": "code",
   "execution_count": null,
   "metadata": {},
   "outputs": [],
   "source": [
    "### personal input solution"
   ]
  },
  {
   "cell_type": "code",
   "execution_count": null,
   "metadata": {},
   "outputs": [],
   "source": [
    "ins = aoc.read_file_to_list(\"day06.in\")\n",
    "#print(f\"{ins}\")\n",
    "res = solve(ins)\n",
    "print(f\"sum of orbits={res}\")"
   ]
  }
 ],
 "metadata": {
  "kernelspec": {
   "display_name": "Python 3",
   "language": "python",
   "name": "python3"
  },
  "language_info": {
   "codemirror_mode": {
    "name": "ipython",
    "version": 3
   },
   "file_extension": ".py",
   "mimetype": "text/x-python",
   "name": "python",
   "nbconvert_exporter": "python",
   "pygments_lexer": "ipython3",
   "version": "3.7.5"
  }
 },
 "nbformat": 4,
 "nbformat_minor": 4
}
