{
 "cells": [
  {
   "cell_type": "code",
   "execution_count": 5,
   "metadata": {},
   "outputs": [],
   "source": [
    "##\n",
    "# Advent of code 2019, AoC day 14 puzzles 1 and 2.\n",
    "# **External solution**. (Used with python3.7 jupyter notebook by kannix68 @ 2020-01-07.)\n",
    "#\n",
    "# Discussion see [2019 Day 14 Solutions: adventofcode](https://www.reddit.com/r/adventofcode/comments/eafj32/2019_day_14_solutions/)\n",
    "# this gist solution see: https://github.com/kresimir-lukin/AdventOfCode2019/blob/master/day14.py"
   ]
  },
  {
   "cell_type": "code",
   "execution_count": 6,
   "metadata": {},
   "outputs": [],
   "source": [
    "import sys, math\n",
    "\n",
    "def parse_input(lines):\n",
    "    def _parse_numsymbol(numsymbol):\n",
    "        num, symbol = numsymbol.strip().split()\n",
    "        return symbol, int(num)\n",
    "    reactions = {}\n",
    "    for line in lines:\n",
    "        left, right = line.split('=>')\n",
    "        left, right = list(map(_parse_numsymbol, left.split(','))), _parse_numsymbol(right)\n",
    "        reactions[right[0]] = (right[1], left)\n",
    "    return reactions\n",
    "\n",
    "def ensure(reactions, data, what, howmuch):\n",
    "    if data[what] >= howmuch:\n",
    "        return True\n",
    "    if what == 'ORE':\n",
    "        return False\n",
    "    n = math.ceil((howmuch - data[what]) / reactions[what][0])\n",
    "    ensured = True\n",
    "    for sub_what, sub_howmuch in reactions[what][1]:\n",
    "        ensured = ensured and ensure(reactions, data, sub_what, n*sub_howmuch)\n",
    "        data[sub_what] -= n*sub_howmuch\n",
    "    if ensured:\n",
    "        data[what] += n*reactions[what][0]\n",
    "    return ensured\n",
    "\n",
    "def part1(reactions):\n",
    "    low, high = 0, 10**12\n",
    "    while low < high:\n",
    "        mid = low + (high - low) // 2\n",
    "        data = {element: 0 for element in reactions}\n",
    "        data['ORE'] = mid\n",
    "        if ensure(reactions, data, 'FUEL', 1):\n",
    "            high = mid\n",
    "        else:\n",
    "            low = mid + 1\n",
    "    return low\n",
    "\n",
    "def part2(reactions):\n",
    "    low, high = 0, 10**12\n",
    "    while low < high-1:\n",
    "        mid = low + (high - low) // 2\n",
    "        data = {element: 0 for element in reactions}\n",
    "        data['ORE'] = 10**12\n",
    "        if ensure(reactions, data, 'FUEL', mid):\n",
    "            low = mid\n",
    "        else:\n",
    "            high = mid - 1\n",
    "    return high if ensure(reactions, data, 'FUEL', high) else low\n",
    "\n",
    "#assert len(sys.argv) == 2\n",
    "#reactions = parse_input(open(sys.argv[1]).read().split('\\n'))\n",
    "#\n",
    "#print('Part 1: {0}, Part 2: {1}'.format(part1(reactions), part2(reactions)))"
   ]
  },
  {
   "cell_type": "code",
   "execution_count": 7,
   "metadata": {},
   "outputs": [
    {
     "name": "stdout",
     "output_type": "stream",
     "text": [
      "Part 1: 579797, Part 2: 2521844\n"
     ]
    }
   ],
   "source": [
    "#ä Modified for personal input file (name)\n",
    "#assert len(sys.argv) == 2\n",
    "reactions = parse_input(open(\"day14.in\").read().strip().split('\\n'))\n",
    "print('Part 1: {0}, Part 2: {1}'.format(part1(reactions), part2(reactions)))"
   ]
  }
 ],
 "metadata": {
  "kernelspec": {
   "display_name": "Python 3",
   "language": "python",
   "name": "python3"
  },
  "language_info": {
   "codemirror_mode": {
    "name": "ipython",
    "version": 3
   },
   "file_extension": ".py",
   "mimetype": "text/x-python",
   "name": "python",
   "nbconvert_exporter": "python",
   "pygments_lexer": "ipython3",
   "version": "3.7.5"
  }
 },
 "nbformat": 4,
 "nbformat_minor": 4
}
